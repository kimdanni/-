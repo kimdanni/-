{
  "nbformat": 4,
  "nbformat_minor": 0,
  "metadata": {
    "colab": {
      "name": "[실습]Ch06.numpy - 02~03.import~ndarray.ipynb",
      "provenance": [],
      "collapsed_sections": [],
      "include_colab_link": true
    },
    "kernelspec": {
      "name": "python3",
      "display_name": "Python 3"
    }
  },
  "cells": [
    {
      "cell_type": "markdown",
      "metadata": {
        "id": "view-in-github",
        "colab_type": "text"
      },
      "source": [
        "<a href=\"https://colab.research.google.com/github/kimdanni/python/blob/circleci-project-setup/numpy1.ipynb\" target=\"_parent\"><img src=\"https://colab.research.google.com/assets/colab-badge.svg\" alt=\"Open In Colab\"/></a>"
      ]
    },
    {
      "cell_type": "markdown",
      "metadata": {
        "id": "YF6gKv_yLvyA",
        "colab_type": "text"
      },
      "source": [
        "## 1. Numpy import 하기"
      ]
    },
    {
      "cell_type": "code",
      "metadata": {
        "id": "0_Kg9xjRLmo-",
        "colab_type": "code",
        "colab": {}
      },
      "source": [
        "import numpy"
      ],
      "execution_count": 9,
      "outputs": []
    },
    {
      "cell_type": "code",
      "metadata": {
        "id": "GgV21jOYLutz",
        "colab_type": "code",
        "colab": {
          "base_uri": "https://localhost:8080/",
          "height": 34
        },
        "outputId": "d1a9af99-bdf7-4211-a781-dfb4500b24a7"
      },
      "source": [
        "numpy"
      ],
      "execution_count": 10,
      "outputs": [
        {
          "output_type": "execute_result",
          "data": {
            "text/plain": [
              "<module 'numpy' from '/usr/local/lib/python3.6/dist-packages/numpy/__init__.py'>"
            ]
          },
          "metadata": {
            "tags": []
          },
          "execution_count": 10
        }
      ]
    },
    {
      "cell_type": "markdown",
      "metadata": {
        "id": "pf1gyZgaL0GG",
        "colab_type": "text"
      },
      "source": [
        "### 1-1. 별칭 (alias) 지정하기 (항상 해주세요!)"
      ]
    },
    {
      "cell_type": "code",
      "metadata": {
        "id": "CJnTQ-bZFqL7",
        "colab_type": "code",
        "colab": {}
      },
      "source": [
        "import numpy as np"
      ],
      "execution_count": 11,
      "outputs": []
    },
    {
      "cell_type": "code",
      "metadata": {
        "id": "Ufvn2tleImzp",
        "colab_type": "code",
        "colab": {
          "base_uri": "https://localhost:8080/",
          "height": 34
        },
        "outputId": "0284f3a8-07d5-4486-c373-7d10ee851d31"
      },
      "source": [
        "np"
      ],
      "execution_count": 12,
      "outputs": [
        {
          "output_type": "execute_result",
          "data": {
            "text/plain": [
              "<module 'numpy' from '/usr/local/lib/python3.6/dist-packages/numpy/__init__.py'>"
            ]
          },
          "metadata": {
            "tags": []
          },
          "execution_count": 12
        }
      ]
    },
    {
      "cell_type": "markdown",
      "metadata": {
        "id": "RHjvmUkhFvrs",
        "colab_type": "text"
      },
      "source": [
        "### 1-2 ndarray (n dimension array)"
      ]
    },
    {
      "cell_type": "code",
      "metadata": {
        "id": "mwQN0_UzMGPO",
        "colab_type": "code",
        "colab": {}
      },
      "source": [
        "arr = np.array([1,2,3,4], dtype = int)\n"
      ],
      "execution_count": 14,
      "outputs": []
    },
    {
      "cell_type": "code",
      "metadata": {
        "id": "qg-d37wfMJ85",
        "colab_type": "code",
        "colab": {}
      },
      "source": [
        "arr = np.array([[1,2,3,4],[5,6,7,8],[9,10,11,12],[13,14,15,16]])"
      ],
      "execution_count": 15,
      "outputs": []
    },
    {
      "cell_type": "code",
      "metadata": {
        "id": "pK4LQp_feRLr",
        "colab_type": "code",
        "colab": {
          "base_uri": "https://localhost:8080/",
          "height": 34
        },
        "outputId": "18887fcd-1f48-4ec9-ddd1-7005bea55c69"
      },
      "source": [
        "[1, 2, 3, 4]"
      ],
      "execution_count": 16,
      "outputs": [
        {
          "output_type": "execute_result",
          "data": {
            "text/plain": [
              "[1, 2, 3, 4]"
            ]
          },
          "metadata": {
            "tags": []
          },
          "execution_count": 16
        }
      ]
    },
    {
      "cell_type": "code",
      "metadata": {
        "id": "FpjKmMxJMVF3",
        "colab_type": "code",
        "colab": {
          "base_uri": "https://localhost:8080/",
          "height": 34
        },
        "outputId": "9d126d6b-76ac-43ab-e628-8bf43d831311"
      },
      "source": [
        "type(arr)"
      ],
      "execution_count": 17,
      "outputs": [
        {
          "output_type": "execute_result",
          "data": {
            "text/plain": [
              "numpy.ndarray"
            ]
          },
          "metadata": {
            "tags": []
          },
          "execution_count": 17
        }
      ]
    },
    {
      "cell_type": "markdown",
      "metadata": {
        "id": "n83ZdpYzMWCh",
        "colab_type": "text"
      },
      "source": [
        "### 2-1. list로 부터 생성하기"
      ]
    },
    {
      "cell_type": "code",
      "metadata": {
        "id": "3FoRNCmxMa96",
        "colab_type": "code",
        "colab": {}
      },
      "source": [
        "mylist1 = [1, 2, 3, 4]"
      ],
      "execution_count": 18,
      "outputs": []
    },
    {
      "cell_type": "code",
      "metadata": {
        "id": "lk6wwjOEMcqN",
        "colab_type": "code",
        "colab": {}
      },
      "source": [
        "mylist2 = [[1, 2, 3, 4], \n",
        "           [5, 6, 7, 8]]"
      ],
      "execution_count": 19,
      "outputs": []
    },
    {
      "cell_type": "code",
      "metadata": {
        "id": "9aeUwDAkMhok",
        "colab_type": "code",
        "colab": {}
      },
      "source": [
        "arr1 = np.array(mylist1)\n"
      ],
      "execution_count": 20,
      "outputs": []
    },
    {
      "cell_type": "code",
      "metadata": {
        "id": "uj3yIOjtMjjB",
        "colab_type": "code",
        "colab": {}
      },
      "source": [
        "arr2 = np.array(mylist2)\n"
      ],
      "execution_count": 21,
      "outputs": []
    },
    {
      "cell_type": "markdown",
      "metadata": {
        "id": "yzMxMbQzMtNO",
        "colab_type": "text"
      },
      "source": [
        "### 2-2. shape확인하기\n",
        "#### shape은 **차원의 수**를 확인 (axis와 shape에 대해 정확한 이해 필요)\n",
        "#### axis : 축 (axis 0 = 행, axis 1 = 열)"
      ]
    },
    {
      "cell_type": "code",
      "metadata": {
        "id": "JvsXql8XMzSQ",
        "colab_type": "code",
        "colab": {
          "base_uri": "https://localhost:8080/",
          "height": 34
        },
        "outputId": "e335dbfc-c0e7-4086-8e7d-9594af5ae92e"
      },
      "source": [
        "arr1.shape\n"
      ],
      "execution_count": 22,
      "outputs": [
        {
          "output_type": "execute_result",
          "data": {
            "text/plain": [
              "(4,)"
            ]
          },
          "metadata": {
            "tags": []
          },
          "execution_count": 22
        }
      ]
    },
    {
      "cell_type": "code",
      "metadata": {
        "id": "0DvV6rmdM0zH",
        "colab_type": "code",
        "colab": {
          "base_uri": "https://localhost:8080/",
          "height": 34
        },
        "outputId": "9c9aadfd-a577-4afb-dcda-686bc44768c3"
      },
      "source": [
        "arr2.shape\n"
      ],
      "execution_count": 23,
      "outputs": [
        {
          "output_type": "execute_result",
          "data": {
            "text/plain": [
              "(2, 4)"
            ]
          },
          "metadata": {
            "tags": []
          },
          "execution_count": 23
        }
      ]
    },
    {
      "cell_type": "markdown",
      "metadata": {
        "id": "gX-z_P_LM9LV",
        "colab_type": "text"
      },
      "source": [
        "## 3. array에서의 data 타입"
      ]
    },
    {
      "cell_type": "markdown",
      "metadata": {
        "id": "MktQdRu7NCt_",
        "colab_type": "text"
      },
      "source": [
        "array에서는 list와는 다르게 1개의 **단일 데이터 타입**만 허용 됩니다."
      ]
    },
    {
      "cell_type": "markdown",
      "metadata": {
        "id": "XTLMkufHNT_M",
        "colab_type": "text"
      },
      "source": [
        "### 3-1. list에서의 data 타입"
      ]
    },
    {
      "cell_type": "code",
      "metadata": {
        "id": "C0B5BIjtNIhI",
        "colab_type": "code",
        "colab": {}
      },
      "source": [
        "mylist = [1, 3.14, '테디', '1234']"
      ],
      "execution_count": 24,
      "outputs": []
    },
    {
      "cell_type": "code",
      "metadata": {
        "id": "KGJ2KOsiNN9e",
        "colab_type": "code",
        "colab": {
          "base_uri": "https://localhost:8080/",
          "height": 34
        },
        "outputId": "0ba09836-7a6c-45a0-dafb-3c08b4498f00"
      },
      "source": [
        "mylist"
      ],
      "execution_count": 25,
      "outputs": [
        {
          "output_type": "execute_result",
          "data": {
            "text/plain": [
              "[1, 3.14, '테디', '1234']"
            ]
          },
          "metadata": {
            "tags": []
          },
          "execution_count": 25
        }
      ]
    },
    {
      "cell_type": "code",
      "metadata": {
        "id": "2DpInJBdNQBx",
        "colab_type": "code",
        "colab": {
          "base_uri": "https://localhost:8080/",
          "height": 34
        },
        "outputId": "5f2e2810-5106-45be-b2f7-98080c9d4a74"
      },
      "source": [
        "mylist[1]\n"
      ],
      "execution_count": 26,
      "outputs": [
        {
          "output_type": "execute_result",
          "data": {
            "text/plain": [
              "3.14"
            ]
          },
          "metadata": {
            "tags": []
          },
          "execution_count": 26
        }
      ]
    },
    {
      "cell_type": "code",
      "metadata": {
        "id": "xjgOr_LnNRgp",
        "colab_type": "code",
        "colab": {
          "base_uri": "https://localhost:8080/",
          "height": 35
        },
        "outputId": "43571c0a-8692-42da-bc09-c298db2cb153"
      },
      "source": [
        "mylist[2]"
      ],
      "execution_count": 27,
      "outputs": [
        {
          "output_type": "execute_result",
          "data": {
            "application/vnd.google.colaboratory.intrinsic+json": {
              "type": "string"
            },
            "text/plain": [
              "'테디'"
            ]
          },
          "metadata": {
            "tags": []
          },
          "execution_count": 27
        }
      ]
    },
    {
      "cell_type": "markdown",
      "metadata": {
        "id": "GX81OuGvNSWJ",
        "colab_type": "text"
      },
      "source": [
        "### 3-2. array에서의 data 타입 (case를 통한 연구)"
      ]
    },
    {
      "cell_type": "markdown",
      "metadata": {
        "id": "szwCkfiKOscZ",
        "colab_type": "text"
      },
      "source": [
        "### case 1. int와 float 타입이 혼재된 경우"
      ]
    },
    {
      "cell_type": "code",
      "metadata": {
        "id": "cbixPa34Opbw",
        "colab_type": "code",
        "colab": {}
      },
      "source": [
        "arr = np.array([1, 2, 3, 3.14])"
      ],
      "execution_count": 28,
      "outputs": []
    },
    {
      "cell_type": "code",
      "metadata": {
        "id": "ic54uzs8Oq2l",
        "colab_type": "code",
        "colab": {
          "base_uri": "https://localhost:8080/",
          "height": 34
        },
        "outputId": "fc2d13a4-5169-4e63-dce7-1f796eabf8f3"
      },
      "source": [
        "arr"
      ],
      "execution_count": 29,
      "outputs": [
        {
          "output_type": "execute_result",
          "data": {
            "text/plain": [
              "array([1.  , 2.  , 3.  , 3.14])"
            ]
          },
          "metadata": {
            "tags": []
          },
          "execution_count": 29
        }
      ]
    },
    {
      "cell_type": "markdown",
      "metadata": {
        "id": "NK9OEY8cO1h1",
        "colab_type": "text"
      },
      "source": [
        "### case 2. int와 float 타입이 혼재되었으나, dtype을 지정한 경우"
      ]
    },
    {
      "cell_type": "code",
      "metadata": {
        "id": "J-CMx0MkOiVB",
        "colab_type": "code",
        "colab": {}
      },
      "source": [
        "arr = np.array([1, 2, 3, 3.14], dtype = int)"
      ],
      "execution_count": 35,
      "outputs": []
    },
    {
      "cell_type": "code",
      "metadata": {
        "id": "9CyK3SNOOmuI",
        "colab_type": "code",
        "colab": {
          "base_uri": "https://localhost:8080/",
          "height": 34
        },
        "outputId": "5711faaa-9667-4636-dda3-c36228cbcd30"
      },
      "source": [
        "arr"
      ],
      "execution_count": 36,
      "outputs": [
        {
          "output_type": "execute_result",
          "data": {
            "text/plain": [
              "array([1, 2, 3, 3])"
            ]
          },
          "metadata": {
            "tags": []
          },
          "execution_count": 36
        }
      ]
    },
    {
      "cell_type": "markdown",
      "metadata": {
        "id": "RDfxDsUWOoT1",
        "colab_type": "text"
      },
      "source": [
        "### case 3. int와 str 타입이 혼재된 경우"
      ]
    },
    {
      "cell_type": "code",
      "metadata": {
        "id": "EFxhPu_oNZ9V",
        "colab_type": "code",
        "colab": {}
      },
      "source": [
        "arr = np.array([1, 3.14, '테디', '1234'])"
      ],
      "execution_count": 38,
      "outputs": []
    },
    {
      "cell_type": "code",
      "metadata": {
        "id": "bkZjF2alNeXJ",
        "colab_type": "code",
        "colab": {
          "base_uri": "https://localhost:8080/",
          "height": 34
        },
        "outputId": "e41d20d1-16ae-4968-e4b3-f76a70f1e42f"
      },
      "source": [
        "arr"
      ],
      "execution_count": 39,
      "outputs": [
        {
          "output_type": "execute_result",
          "data": {
            "text/plain": [
              "array(['1', '3.14', '테디', '1234'], dtype='<U32')"
            ]
          },
          "metadata": {
            "tags": []
          },
          "execution_count": 39
        }
      ]
    },
    {
      "cell_type": "code",
      "metadata": {
        "id": "VcFfCH16Ni4-",
        "colab_type": "code",
        "colab": {
          "base_uri": "https://localhost:8080/",
          "height": 35
        },
        "outputId": "c2c358f7-b7a0-496b-cd65-c7830cc10b46"
      },
      "source": [
        "arr[0] + arr[1]"
      ],
      "execution_count": 40,
      "outputs": [
        {
          "output_type": "execute_result",
          "data": {
            "application/vnd.google.colaboratory.intrinsic+json": {
              "type": "string"
            },
            "text/plain": [
              "'13.14'"
            ]
          },
          "metadata": {
            "tags": []
          },
          "execution_count": 40
        }
      ]
    },
    {
      "cell_type": "markdown",
      "metadata": {
        "id": "ihIB8zQfPCLP",
        "colab_type": "text"
      },
      "source": [
        "### case 4. int와 str 타입이 혼재되어 있고 int로 dtype을 지정한 경우"
      ]
    },
    {
      "cell_type": "code",
      "metadata": {
        "id": "L2cVoxoEPH7X",
        "colab_type": "code",
        "colab": {}
      },
      "source": [
        "arr = np.array([1, 3.14, '1234'], dtype=int)"
      ],
      "execution_count": 41,
      "outputs": []
    },
    {
      "cell_type": "code",
      "metadata": {
        "id": "f7EtNlGuPLTM",
        "colab_type": "code",
        "colab": {
          "base_uri": "https://localhost:8080/",
          "height": 34
        },
        "outputId": "d68c907f-f59c-4353-f563-0c3a85e93ac1"
      },
      "source": [
        "arr"
      ],
      "execution_count": 42,
      "outputs": [
        {
          "output_type": "execute_result",
          "data": {
            "text/plain": [
              "array([   1,    3, 1234])"
            ]
          },
          "metadata": {
            "tags": []
          },
          "execution_count": 42
        }
      ]
    }
  ]
}