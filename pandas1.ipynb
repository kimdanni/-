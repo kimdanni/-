{
  "nbformat": 4,
  "nbformat_minor": 0,
  "metadata": {
    "colab": {
      "name": "[실습]Ch01.pandas - 02.series와dataframe.ipynb",
      "provenance": [],
      "collapsed_sections": [],
      "include_colab_link": true
    },
    "kernelspec": {
      "name": "python3",
      "display_name": "Python 3"
    }
  },
  "cells": [
    {
      "cell_type": "markdown",
      "metadata": {
        "id": "view-in-github",
        "colab_type": "text"
      },
      "source": [
        "<a href=\"https://colab.research.google.com/github/kimdanni/python/blob/circleci-project-setup/pandas1.ipynb\" target=\"_parent\"><img src=\"https://colab.research.google.com/assets/colab-badge.svg\" alt=\"Open In Colab\"/></a>"
      ]
    },
    {
      "cell_type": "markdown",
      "metadata": {
        "id": "jgI2U66T0I32",
        "colab_type": "text"
      },
      "source": [
        "## 1. pandas 패키지 로드"
      ]
    },
    {
      "cell_type": "code",
      "metadata": {
        "id": "40RAWO0_JYUR",
        "colab_type": "code",
        "colab": {}
      },
      "source": [
        "import pandas"
      ],
      "execution_count": 1,
      "outputs": []
    },
    {
      "cell_type": "markdown",
      "metadata": {
        "id": "uRx3H4khJZj8",
        "colab_type": "text"
      },
      "source": [
        "### 별칭은 주로 pd로 사용합니다."
      ]
    },
    {
      "cell_type": "code",
      "metadata": {
        "id": "vQpdbAfBJdXW",
        "colab_type": "code",
        "colab": {}
      },
      "source": [
        "import pandas as pd\n"
      ],
      "execution_count": 2,
      "outputs": []
    },
    {
      "cell_type": "code",
      "metadata": {
        "id": "acvM3A9FJe8K",
        "colab_type": "code",
        "colab": {
          "base_uri": "https://localhost:8080/",
          "height": 36
        },
        "outputId": "ea6aba42-3860-45bb-9ff1-b40a4cdbdbff"
      },
      "source": [
        "pd"
      ],
      "execution_count": 3,
      "outputs": [
        {
          "output_type": "execute_result",
          "data": {
            "text/plain": [
              "<module 'pandas' from '/usr/local/lib/python3.6/dist-packages/pandas/__init__.py'>"
            ]
          },
          "metadata": {
            "tags": []
          },
          "execution_count": 3
        }
      ]
    },
    {
      "cell_type": "markdown",
      "metadata": {
        "id": "hFHdDWBgJibu",
        "colab_type": "text"
      },
      "source": [
        "## 2. pandas 의 Series 와 DataFrame"
      ]
    },
    {
      "cell_type": "markdown",
      "metadata": {
        "id": "goWOoCaKJm8X",
        "colab_type": "text"
      },
      "source": [
        "1차원, 1개의 column은 Series라고 합니다."
      ]
    },
    {
      "cell_type": "markdown",
      "metadata": {
        "id": "gcoGM9bGJqqq",
        "colab_type": "text"
      },
      "source": [
        "### 2-1. Series"
      ]
    },
    {
      "cell_type": "code",
      "metadata": {
        "id": "AsvUXs-sJxia",
        "colab_type": "code",
        "colab": {
          "base_uri": "https://localhost:8080/",
          "height": 110
        },
        "outputId": "1a2d22f7-fdda-4e20-8c60-a424f4365a24"
      },
      "source": [
        "pd.Series([1, 2, 3, 4])"
      ],
      "execution_count": 4,
      "outputs": [
        {
          "output_type": "execute_result",
          "data": {
            "text/plain": [
              "0    1\n",
              "1    2\n",
              "2    3\n",
              "3    4\n",
              "dtype: int64"
            ]
          },
          "metadata": {
            "tags": []
          },
          "execution_count": 4
        }
      ]
    },
    {
      "cell_type": "code",
      "metadata": {
        "id": "JoyKvP4nk0CX",
        "colab_type": "code",
        "colab": {}
      },
      "source": [
        "a = [1, 2, 3, 4]"
      ],
      "execution_count": 5,
      "outputs": []
    },
    {
      "cell_type": "code",
      "metadata": {
        "id": "KPeX-9pJk1m4",
        "colab_type": "code",
        "colab": {
          "base_uri": "https://localhost:8080/",
          "height": 110
        },
        "outputId": "3fcd104e-969d-4855-8ff5-1bd35fced5d1"
      },
      "source": [
        "pd.Series(a)"
      ],
      "execution_count": 7,
      "outputs": [
        {
          "output_type": "execute_result",
          "data": {
            "text/plain": [
              "0    1\n",
              "1    2\n",
              "2    3\n",
              "3    4\n",
              "dtype: int64"
            ]
          },
          "metadata": {
            "tags": []
          },
          "execution_count": 7
        }
      ]
    },
    {
      "cell_type": "code",
      "metadata": {
        "id": "rzet39pKJsgb",
        "colab_type": "code",
        "colab": {
          "base_uri": "https://localhost:8080/",
          "height": 110
        },
        "outputId": "65c92ea6-a7d9-452b-dc95-086b37498dda"
      },
      "source": [
        "mylist = [1, 2, 3, 4]\n",
        "pd.Series(mylist)"
      ],
      "execution_count": 8,
      "outputs": [
        {
          "output_type": "execute_result",
          "data": {
            "text/plain": [
              "0    1\n",
              "1    2\n",
              "2    3\n",
              "3    4\n",
              "dtype: int64"
            ]
          },
          "metadata": {
            "tags": []
          },
          "execution_count": 8
        }
      ]
    },
    {
      "cell_type": "markdown",
      "metadata": {
        "id": "f6stlZ_TJwgL",
        "colab_type": "text"
      },
      "source": [
        "### 2-2. DataFrame"
      ]
    },
    {
      "cell_type": "markdown",
      "metadata": {
        "id": "C_TZQqGT8KIp",
        "colab_type": "text"
      },
      "source": [
        "#### 방법 1. list로 만들기"
      ]
    },
    {
      "cell_type": "code",
      "metadata": {
        "id": "lDGGTxZ45Fvm",
        "colab_type": "code",
        "colab": {}
      },
      "source": [
        "company1 = [['삼성', 2000, '스마트폰'],\n",
        "           ['현대', 1000, '자동차'],\n",
        "           ['네이버', 500, '포털']]"
      ],
      "execution_count": 10,
      "outputs": []
    },
    {
      "cell_type": "code",
      "metadata": {
        "id": "4BZpUmU66t3Z",
        "colab_type": "code",
        "colab": {
          "base_uri": "https://localhost:8080/",
          "height": 138
        },
        "outputId": "1b2c45e1-3c20-4873-cf7c-f09e85d6af91"
      },
      "source": [
        "pd.DataFrame(company1)"
      ],
      "execution_count": 11,
      "outputs": [
        {
          "output_type": "execute_result",
          "data": {
            "text/html": [
              "<div>\n",
              "<style scoped>\n",
              "    .dataframe tbody tr th:only-of-type {\n",
              "        vertical-align: middle;\n",
              "    }\n",
              "\n",
              "    .dataframe tbody tr th {\n",
              "        vertical-align: top;\n",
              "    }\n",
              "\n",
              "    .dataframe thead th {\n",
              "        text-align: right;\n",
              "    }\n",
              "</style>\n",
              "<table border=\"1\" class=\"dataframe\">\n",
              "  <thead>\n",
              "    <tr style=\"text-align: right;\">\n",
              "      <th></th>\n",
              "      <th>0</th>\n",
              "      <th>1</th>\n",
              "      <th>2</th>\n",
              "    </tr>\n",
              "  </thead>\n",
              "  <tbody>\n",
              "    <tr>\n",
              "      <th>0</th>\n",
              "      <td>삼성</td>\n",
              "      <td>2000</td>\n",
              "      <td>스마트폰</td>\n",
              "    </tr>\n",
              "    <tr>\n",
              "      <th>1</th>\n",
              "      <td>현대</td>\n",
              "      <td>1000</td>\n",
              "      <td>자동차</td>\n",
              "    </tr>\n",
              "    <tr>\n",
              "      <th>2</th>\n",
              "      <td>네이버</td>\n",
              "      <td>500</td>\n",
              "      <td>포털</td>\n",
              "    </tr>\n",
              "  </tbody>\n",
              "</table>\n",
              "</div>"
            ],
            "text/plain": [
              "     0     1     2\n",
              "0   삼성  2000  스마트폰\n",
              "1   현대  1000   자동차\n",
              "2  네이버   500    포털"
            ]
          },
          "metadata": {
            "tags": []
          },
          "execution_count": 11
        }
      ]
    },
    {
      "cell_type": "code",
      "metadata": {
        "id": "2urfAkZD69JZ",
        "colab_type": "code",
        "colab": {}
      },
      "source": [
        "df1 = pd.DataFrame(company1)"
      ],
      "execution_count": 12,
      "outputs": []
    },
    {
      "cell_type": "code",
      "metadata": {
        "id": "WC8MXR-27DZ6",
        "colab_type": "code",
        "colab": {
          "base_uri": "https://localhost:8080/",
          "height": 138
        },
        "outputId": "6f15989c-686b-4799-82fa-20aa0b150a42"
      },
      "source": [
        "df1"
      ],
      "execution_count": 13,
      "outputs": [
        {
          "output_type": "execute_result",
          "data": {
            "text/html": [
              "<div>\n",
              "<style scoped>\n",
              "    .dataframe tbody tr th:only-of-type {\n",
              "        vertical-align: middle;\n",
              "    }\n",
              "\n",
              "    .dataframe tbody tr th {\n",
              "        vertical-align: top;\n",
              "    }\n",
              "\n",
              "    .dataframe thead th {\n",
              "        text-align: right;\n",
              "    }\n",
              "</style>\n",
              "<table border=\"1\" class=\"dataframe\">\n",
              "  <thead>\n",
              "    <tr style=\"text-align: right;\">\n",
              "      <th></th>\n",
              "      <th>0</th>\n",
              "      <th>1</th>\n",
              "      <th>2</th>\n",
              "    </tr>\n",
              "  </thead>\n",
              "  <tbody>\n",
              "    <tr>\n",
              "      <th>0</th>\n",
              "      <td>삼성</td>\n",
              "      <td>2000</td>\n",
              "      <td>스마트폰</td>\n",
              "    </tr>\n",
              "    <tr>\n",
              "      <th>1</th>\n",
              "      <td>현대</td>\n",
              "      <td>1000</td>\n",
              "      <td>자동차</td>\n",
              "    </tr>\n",
              "    <tr>\n",
              "      <th>2</th>\n",
              "      <td>네이버</td>\n",
              "      <td>500</td>\n",
              "      <td>포털</td>\n",
              "    </tr>\n",
              "  </tbody>\n",
              "</table>\n",
              "</div>"
            ],
            "text/plain": [
              "     0     1     2\n",
              "0   삼성  2000  스마트폰\n",
              "1   현대  1000   자동차\n",
              "2  네이버   500    포털"
            ]
          },
          "metadata": {
            "tags": []
          },
          "execution_count": 13
        }
      ]
    },
    {
      "cell_type": "markdown",
      "metadata": {
        "id": "awNbOxc48dwa",
        "colab_type": "text"
      },
      "source": [
        "#### 제목컬럼 만들기"
      ]
    },
    {
      "cell_type": "code",
      "metadata": {
        "id": "IUrvtees8c4g",
        "colab_type": "code",
        "colab": {}
      },
      "source": [
        "df1.columns = ['기업명', '매출액', '업종']\n",
        "# 가지고 있는 db와 columns의 수가 일치하지 않는다면 error 발생. ex) df1.columns = ['A', 'B']"
      ],
      "execution_count": 17,
      "outputs": []
    },
    {
      "cell_type": "code",
      "metadata": {
        "id": "IjYjnvjv8gbQ",
        "colab_type": "code",
        "colab": {
          "base_uri": "https://localhost:8080/",
          "height": 138
        },
        "outputId": "1e4c3474-25b0-4b86-f6d6-94be2787bc06"
      },
      "source": [
        "df1"
      ],
      "execution_count": 18,
      "outputs": [
        {
          "output_type": "execute_result",
          "data": {
            "text/html": [
              "<div>\n",
              "<style scoped>\n",
              "    .dataframe tbody tr th:only-of-type {\n",
              "        vertical-align: middle;\n",
              "    }\n",
              "\n",
              "    .dataframe tbody tr th {\n",
              "        vertical-align: top;\n",
              "    }\n",
              "\n",
              "    .dataframe thead th {\n",
              "        text-align: right;\n",
              "    }\n",
              "</style>\n",
              "<table border=\"1\" class=\"dataframe\">\n",
              "  <thead>\n",
              "    <tr style=\"text-align: right;\">\n",
              "      <th></th>\n",
              "      <th>기업명</th>\n",
              "      <th>매출액</th>\n",
              "      <th>업종</th>\n",
              "    </tr>\n",
              "  </thead>\n",
              "  <tbody>\n",
              "    <tr>\n",
              "      <th>0</th>\n",
              "      <td>삼성</td>\n",
              "      <td>2000</td>\n",
              "      <td>스마트폰</td>\n",
              "    </tr>\n",
              "    <tr>\n",
              "      <th>1</th>\n",
              "      <td>현대</td>\n",
              "      <td>1000</td>\n",
              "      <td>자동차</td>\n",
              "    </tr>\n",
              "    <tr>\n",
              "      <th>2</th>\n",
              "      <td>네이버</td>\n",
              "      <td>500</td>\n",
              "      <td>포털</td>\n",
              "    </tr>\n",
              "  </tbody>\n",
              "</table>\n",
              "</div>"
            ],
            "text/plain": [
              "   기업명   매출액    업종\n",
              "0   삼성  2000  스마트폰\n",
              "1   현대  1000   자동차\n",
              "2  네이버   500    포털"
            ]
          },
          "metadata": {
            "tags": []
          },
          "execution_count": 18
        }
      ]
    },
    {
      "cell_type": "markdown",
      "metadata": {
        "id": "8rtUnSSk8QpC",
        "colab_type": "text"
      },
      "source": [
        "#### 방법 2. dict로 만들기"
      ]
    },
    {
      "cell_type": "code",
      "metadata": {
        "id": "q07W6AKx8Q0w",
        "colab_type": "code",
        "colab": {}
      },
      "source": [
        "company2 = {'기업명':['삼성', '현대', '네이버'], \n",
        "            '매출액': [2000, 1000, 500], \n",
        "            '업종': ['스마트폰', '자동차', '포털']\n",
        "           } # 키 값을 같이 입력하여 colums를 따로 정의해야 할 수고를 덜었다!"
      ],
      "execution_count": 19,
      "outputs": []
    },
    {
      "cell_type": "code",
      "metadata": {
        "id": "XjkQ3FAa8WIY",
        "colab_type": "code",
        "colab": {}
      },
      "source": [
        "df2 = pd.DataFrame(company2)\n"
      ],
      "execution_count": 20,
      "outputs": []
    },
    {
      "cell_type": "code",
      "metadata": {
        "id": "anyHokEx8mYu",
        "colab_type": "code",
        "colab": {
          "base_uri": "https://localhost:8080/",
          "height": 138
        },
        "outputId": "ee2c222d-7da1-4e58-ef94-8bea7cbe2958"
      },
      "source": [
        "df2"
      ],
      "execution_count": 21,
      "outputs": [
        {
          "output_type": "execute_result",
          "data": {
            "text/html": [
              "<div>\n",
              "<style scoped>\n",
              "    .dataframe tbody tr th:only-of-type {\n",
              "        vertical-align: middle;\n",
              "    }\n",
              "\n",
              "    .dataframe tbody tr th {\n",
              "        vertical-align: top;\n",
              "    }\n",
              "\n",
              "    .dataframe thead th {\n",
              "        text-align: right;\n",
              "    }\n",
              "</style>\n",
              "<table border=\"1\" class=\"dataframe\">\n",
              "  <thead>\n",
              "    <tr style=\"text-align: right;\">\n",
              "      <th></th>\n",
              "      <th>기업명</th>\n",
              "      <th>매출액</th>\n",
              "      <th>업종</th>\n",
              "    </tr>\n",
              "  </thead>\n",
              "  <tbody>\n",
              "    <tr>\n",
              "      <th>0</th>\n",
              "      <td>삼성</td>\n",
              "      <td>2000</td>\n",
              "      <td>스마트폰</td>\n",
              "    </tr>\n",
              "    <tr>\n",
              "      <th>1</th>\n",
              "      <td>현대</td>\n",
              "      <td>1000</td>\n",
              "      <td>자동차</td>\n",
              "    </tr>\n",
              "    <tr>\n",
              "      <th>2</th>\n",
              "      <td>네이버</td>\n",
              "      <td>500</td>\n",
              "      <td>포털</td>\n",
              "    </tr>\n",
              "  </tbody>\n",
              "</table>\n",
              "</div>"
            ],
            "text/plain": [
              "   기업명   매출액    업종\n",
              "0   삼성  2000  스마트폰\n",
              "1   현대  1000   자동차\n",
              "2  네이버   500    포털"
            ]
          },
          "metadata": {
            "tags": []
          },
          "execution_count": 21
        }
      ]
    },
    {
      "cell_type": "markdown",
      "metadata": {
        "id": "ezhPULPP7hCc",
        "colab_type": "text"
      },
      "source": [
        "#### index를 특정 column으로 지정하기"
      ]
    },
    {
      "cell_type": "code",
      "metadata": {
        "id": "8X_6mbNX9IG4",
        "colab_type": "code",
        "colab": {
          "base_uri": "https://localhost:8080/",
          "height": 138
        },
        "outputId": "22db0f5a-52a3-430b-a88d-e44e0f8ed81a"
      },
      "source": [
        "df1"
      ],
      "execution_count": 23,
      "outputs": [
        {
          "output_type": "execute_result",
          "data": {
            "text/html": [
              "<div>\n",
              "<style scoped>\n",
              "    .dataframe tbody tr th:only-of-type {\n",
              "        vertical-align: middle;\n",
              "    }\n",
              "\n",
              "    .dataframe tbody tr th {\n",
              "        vertical-align: top;\n",
              "    }\n",
              "\n",
              "    .dataframe thead th {\n",
              "        text-align: right;\n",
              "    }\n",
              "</style>\n",
              "<table border=\"1\" class=\"dataframe\">\n",
              "  <thead>\n",
              "    <tr style=\"text-align: right;\">\n",
              "      <th></th>\n",
              "      <th>기업명</th>\n",
              "      <th>매출액</th>\n",
              "      <th>업종</th>\n",
              "    </tr>\n",
              "  </thead>\n",
              "  <tbody>\n",
              "    <tr>\n",
              "      <th>0</th>\n",
              "      <td>삼성</td>\n",
              "      <td>2000</td>\n",
              "      <td>스마트폰</td>\n",
              "    </tr>\n",
              "    <tr>\n",
              "      <th>1</th>\n",
              "      <td>현대</td>\n",
              "      <td>1000</td>\n",
              "      <td>자동차</td>\n",
              "    </tr>\n",
              "    <tr>\n",
              "      <th>2</th>\n",
              "      <td>네이버</td>\n",
              "      <td>500</td>\n",
              "      <td>포털</td>\n",
              "    </tr>\n",
              "  </tbody>\n",
              "</table>\n",
              "</div>"
            ],
            "text/plain": [
              "   기업명   매출액    업종\n",
              "0   삼성  2000  스마트폰\n",
              "1   현대  1000   자동차\n",
              "2  네이버   500    포털"
            ]
          },
          "metadata": {
            "tags": []
          },
          "execution_count": 23
        }
      ]
    },
    {
      "cell_type": "code",
      "metadata": {
        "id": "AOyZzJ9t7JNV",
        "colab_type": "code",
        "colab": {}
      },
      "source": [
        "df1.index = df1['기업명']"
      ],
      "execution_count": 24,
      "outputs": []
    },
    {
      "cell_type": "code",
      "metadata": {
        "id": "VMS4adFf7Uta",
        "colab_type": "code",
        "colab": {
          "base_uri": "https://localhost:8080/",
          "height": 168
        },
        "outputId": "fcec36ce-b121-4492-c581-68f2b272ea64"
      },
      "source": [
        "df1"
      ],
      "execution_count": 25,
      "outputs": [
        {
          "output_type": "execute_result",
          "data": {
            "text/html": [
              "<div>\n",
              "<style scoped>\n",
              "    .dataframe tbody tr th:only-of-type {\n",
              "        vertical-align: middle;\n",
              "    }\n",
              "\n",
              "    .dataframe tbody tr th {\n",
              "        vertical-align: top;\n",
              "    }\n",
              "\n",
              "    .dataframe thead th {\n",
              "        text-align: right;\n",
              "    }\n",
              "</style>\n",
              "<table border=\"1\" class=\"dataframe\">\n",
              "  <thead>\n",
              "    <tr style=\"text-align: right;\">\n",
              "      <th></th>\n",
              "      <th>기업명</th>\n",
              "      <th>매출액</th>\n",
              "      <th>업종</th>\n",
              "    </tr>\n",
              "    <tr>\n",
              "      <th>기업명</th>\n",
              "      <th></th>\n",
              "      <th></th>\n",
              "      <th></th>\n",
              "    </tr>\n",
              "  </thead>\n",
              "  <tbody>\n",
              "    <tr>\n",
              "      <th>삼성</th>\n",
              "      <td>삼성</td>\n",
              "      <td>2000</td>\n",
              "      <td>스마트폰</td>\n",
              "    </tr>\n",
              "    <tr>\n",
              "      <th>현대</th>\n",
              "      <td>현대</td>\n",
              "      <td>1000</td>\n",
              "      <td>자동차</td>\n",
              "    </tr>\n",
              "    <tr>\n",
              "      <th>네이버</th>\n",
              "      <td>네이버</td>\n",
              "      <td>500</td>\n",
              "      <td>포털</td>\n",
              "    </tr>\n",
              "  </tbody>\n",
              "</table>\n",
              "</div>"
            ],
            "text/plain": [
              "     기업명   매출액    업종\n",
              "기업명                 \n",
              "삼성    삼성  2000  스마트폰\n",
              "현대    현대  1000   자동차\n",
              "네이버  네이버   500    포털"
            ]
          },
          "metadata": {
            "tags": []
          },
          "execution_count": 25
        }
      ]
    },
    {
      "cell_type": "markdown",
      "metadata": {
        "id": "LEXSZx0v7Vl9",
        "colab_type": "text"
      },
      "source": [
        "#### series = column 이라고 하였습니다. 확인해 볼까요?"
      ]
    },
    {
      "cell_type": "code",
      "metadata": {
        "id": "yfqQMmIb7pCz",
        "colab_type": "code",
        "colab": {
          "base_uri": "https://localhost:8080/",
          "height": 110
        },
        "outputId": "81670373-7a10-472d-9a81-b9e2a941edda"
      },
      "source": [
        "df1['매출액']"
      ],
      "execution_count": 26,
      "outputs": [
        {
          "output_type": "execute_result",
          "data": {
            "text/plain": [
              "기업명\n",
              "삼성     2000\n",
              "현대     1000\n",
              "네이버     500\n",
              "Name: 매출액, dtype: int64"
            ]
          },
          "metadata": {
            "tags": []
          },
          "execution_count": 26
        }
      ]
    },
    {
      "cell_type": "code",
      "metadata": {
        "id": "Qk-0rKon7qQv",
        "colab_type": "code",
        "colab": {
          "base_uri": "https://localhost:8080/",
          "height": 36
        },
        "outputId": "ee01c266-731e-4145-80ad-e8bdb4845fac"
      },
      "source": [
        "type(df1['매출액'])"
      ],
      "execution_count": 27,
      "outputs": [
        {
          "output_type": "execute_result",
          "data": {
            "text/plain": [
              "pandas.core.series.Series"
            ]
          },
          "metadata": {
            "tags": []
          },
          "execution_count": 27
        }
      ]
    },
    {
      "cell_type": "code",
      "metadata": {
        "id": "smPA27UwjX6t",
        "colab_type": "code",
        "colab": {}
      },
      "source": [
        ""
      ],
      "execution_count": null,
      "outputs": []
    }
  ]
}