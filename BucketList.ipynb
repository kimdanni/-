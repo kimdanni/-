{
  "nbformat": 4,
  "nbformat_minor": 0,
  "metadata": {
    "colab": {
      "name": "BucketList.ipynb",
      "provenance": [],
      "toc_visible": true,
      "authorship_tag": "ABX9TyMvaQ1JgskeWaeHNhDLbEqV",
      "include_colab_link": true
    },
    "kernelspec": {
      "name": "python3",
      "display_name": "Python 3"
    }
  },
  "cells": [
    {
      "cell_type": "markdown",
      "metadata": {
        "id": "view-in-github",
        "colab_type": "text"
      },
      "source": [
        "<a href=\"https://colab.research.google.com/github/kimdanni/python/blob/circleci-project-setup/BucketList.ipynb\" target=\"_parent\"><img src=\"https://colab.research.google.com/assets/colab-badge.svg\" alt=\"Open In Colab\"/></a>"
      ]
    },
    {
      "cell_type": "markdown",
      "metadata": {
        "id": "a9MQ1DHlUBq9",
        "colab_type": "text"
      },
      "source": [
        "#Daeung's Bucket list"
      ]
    },
    {
      "cell_type": "markdown",
      "metadata": {
        "id": "iDhO-tSqVC7Y",
        "colab_type": "text"
      },
      "source": [
        "## 건강 관리 하기"
      ]
    },
    {
      "cell_type": "markdown",
      "metadata": {
        "id": "H3tUx55sVF6p",
        "colab_type": "text"
      },
      "source": [
        "1. 필라테스 해보기"
      ]
    },
    {
      "cell_type": "markdown",
      "metadata": {
        "id": "fmRZDmBvVJyR",
        "colab_type": "text"
      },
      "source": [
        "2. 등반 해보기"
      ]
    },
    {
      "cell_type": "markdown",
      "metadata": {
        "id": "y-agQCN6VNZk",
        "colab_type": "text"
      },
      "source": [
        "3. 수영 배워보기"
      ]
    },
    {
      "cell_type": "markdown",
      "metadata": {
        "id": "tUpl978JUOCa",
        "colab_type": "text"
      },
      "source": [
        "## 즐거운 대학 생활 하기"
      ]
    },
    {
      "cell_type": "markdown",
      "metadata": {
        "id": "xZuy6wpLVwfq",
        "colab_type": "text"
      },
      "source": [
        "1. 친구들이랑 여행 가기"
      ]
    },
    {
      "cell_type": "markdown",
      "metadata": {
        "id": "JUd7I18qV5LU",
        "colab_type": "text"
      },
      "source": [
        "2. 친구들이랑 마라탕 만들어 먹기"
      ]
    },
    {
      "cell_type": "markdown",
      "metadata": {
        "id": "QDpn0WpHV80O",
        "colab_type": "text"
      },
      "source": [
        "3. 친구들이랑 쇼핑 가기"
      ]
    },
    {
      "cell_type": "markdown",
      "metadata": {
        "id": "WH8-LtktWHUv",
        "colab_type": "text"
      },
      "source": [
        "4. 친구들이랑 밤새서 프로젝트도 하고 수다도 떨기"
      ]
    },
    {
      "cell_type": "markdown",
      "metadata": {
        "id": "H3Krt2fCWP-G",
        "colab_type": "text"
      },
      "source": [
        "5. 칭그들이랑 브이로그 찍어보기"
      ]
    },
    {
      "cell_type": "markdown",
      "metadata": {
        "id": "glazuYrMURKr",
        "colab_type": "text"
      },
      "source": [
        "## 기타"
      ]
    },
    {
      "cell_type": "markdown",
      "metadata": {
        "id": "y0R1-AXMWOxY",
        "colab_type": "text"
      },
      "source": [
        "1. 파이썬 관련한 유튜브 영상 찍어보기"
      ]
    },
    {
      "cell_type": "markdown",
      "metadata": {
        "id": "eWOW0QOjW5zD",
        "colab_type": "text"
      },
      "source": [
        "2. github 본사 가서 옥토캣 굿즈 사오기"
      ]
    },
    {
      "cell_type": "markdown",
      "metadata": {
        "id": "9TTDQ3wcXOai",
        "colab_type": "text"
      },
      "source": [
        "3. 템플 스테이 가기"
      ]
    },
    {
      "cell_type": "markdown",
      "metadata": {
        "id": "JL5orypqXblb",
        "colab_type": "text"
      },
      "source": [
        "4. 버스킹 해보기"
      ]
    },
    {
      "cell_type": "markdown",
      "metadata": {
        "id": "X8qdzEP_Xe-Y",
        "colab_type": "text"
      },
      "source": [
        "5. 코딩 수업 해보기"
      ]
    }
  ]
}