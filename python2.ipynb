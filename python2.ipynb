{
  "nbformat": 4,
  "nbformat_minor": 0,
  "metadata": {
    "colab": {
      "name": "Untitled3.ipynb",
      "provenance": [],
      "collapsed_sections": [],
      "authorship_tag": "ABX9TyPYJ+3hvhJGPojrgKKU2tPP",
      "include_colab_link": true
    },
    "kernelspec": {
      "name": "python3",
      "display_name": "Python 3"
    }
  },
  "cells": [
    {
      "cell_type": "markdown",
      "metadata": {
        "id": "view-in-github",
        "colab_type": "text"
      },
      "source": [
        "<a href=\"https://colab.research.google.com/github/kimdanni/python/blob/circleci-project-setup/python2.ipynb\" target=\"_parent\"><img src=\"https://colab.research.google.com/assets/colab-badge.svg\" alt=\"Open In Colab\"/></a>"
      ]
    },
    {
      "cell_type": "markdown",
      "metadata": {
        "id": "6c5VruODkGmm"
      },
      "source": [
        "## **Life is short, You need Python**\r\n"
      ]
    },
    {
      "cell_type": "markdown",
      "metadata": {
        "id": "9b652UCKlSTu"
      },
      "source": [
        "#### https://wikidocs.net/68\r\n",
        "#### 파이썬은 시스템 유틸리티 부터 웹 서버 데이터 분석\r\n",
        "#### 데이터 전처리 GUI 딥러닝 등 사용되는 분야가 넓다\r\n",
        "#### 언어 자체 문법이 매우 쉽고 간결해 진입장벽 낮음\r\n"
      ]
    },
    {
      "cell_type": "markdown",
      "metadata": {
        "id": "s0eojct-m9dW"
      },
      "source": [
        "파이썬으로 인사하는 법!\r\n"
      ]
    },
    {
      "cell_type": "code",
      "metadata": {
        "id": "QAYIzBNlm-Ze"
      },
      "source": [
        "print('안녕 얘들아! ^0^')"
      ],
      "execution_count": null,
      "outputs": []
    },
    {
      "cell_type": "markdown",
      "metadata": {
        "id": "fJbGPH7gnQw_"
      },
      "source": [
        "### 제곱 몫 나머지를 구해보자"
      ]
    },
    {
      "cell_type": "code",
      "metadata": {
        "colab": {
          "base_uri": "https://localhost:8080/"
        },
        "id": "pzYxFv2YnWYv",
        "outputId": "2a936e75-096d-4c75-9767-cadf35b85375"
      },
      "source": [
        "5 ** 2"
      ],
      "execution_count": null,
      "outputs": [
        {
          "output_type": "execute_result",
          "data": {
            "text/plain": [
              "25"
            ]
          },
          "metadata": {
            "tags": []
          },
          "execution_count": 5
        }
      ]
    },
    {
      "cell_type": "code",
      "metadata": {
        "id": "8Ew_cRWInaag"
      },
      "source": [
        "5 // 2"
      ],
      "execution_count": null,
      "outputs": []
    },
    {
      "cell_type": "code",
      "metadata": {
        "id": "iJPhBChtnZ_2"
      },
      "source": [
        "5 % 2"
      ],
      "execution_count": null,
      "outputs": []
    },
    {
      "cell_type": "code",
      "metadata": {
        "colab": {
          "base_uri": "https://localhost:8080/"
        },
        "id": "OguOzwI_smzh",
        "outputId": "7d25fb6f-a436-4a14-8a7f-788230f750b5"
      },
      "source": [
        "# 이런것도 있다\r\n",
        "pow(3,4)"
      ],
      "execution_count": null,
      "outputs": [
        {
          "output_type": "execute_result",
          "data": {
            "text/plain": [
              "81"
            ]
          },
          "metadata": {
            "tags": []
          },
          "execution_count": 23
        }
      ]
    },
    {
      "cell_type": "markdown",
      "metadata": {
        "id": "vOxOLw1bnove"
      },
      "source": [
        "### 문자열 연산"
      ]
    },
    {
      "cell_type": "code",
      "metadata": {
        "colab": {
          "base_uri": "https://localhost:8080/"
        },
        "id": "FvfOi_FEnvdx",
        "outputId": "0e8ff256-1daa-4005-b9e8-d9844d8e0645"
      },
      "source": [
        "print(\"*\"*1)\r\n",
        "print(\"*\"*2)\r\n",
        "print(\"*\"*3)\r\n",
        "print(\"*\"*4)\r\n",
        "print(\"*\"*5)\r\n",
        "print(\"*\"*6)"
      ],
      "execution_count": null,
      "outputs": [
        {
          "output_type": "stream",
          "text": [
            "*\n",
            "**\n",
            "***\n",
            "****\n",
            "*****\n",
            "******\n"
          ],
          "name": "stdout"
        }
      ]
    },
    {
      "cell_type": "markdown",
      "metadata": {
        "id": "fqwSkISJoCkC"
      },
      "source": [
        "### 변수"
      ]
    },
    {
      "cell_type": "code",
      "metadata": {
        "colab": {
          "base_uri": "https://localhost:8080/"
        },
        "id": "2uOOW3mZoEot",
        "outputId": "c9f40f85-d8db-4b8b-9c42-7ce50e71ca3f"
      },
      "source": [
        "# 변수 이름은 나중에 내가 헷갈리지 않도록 && 다른 사람도 이해할 수 있도록 사용용도에 맞게 지정해주는 편이 나음\r\n",
        "count = 0\r\n",
        "count = count + 1\r\n",
        "count"
      ],
      "execution_count": null,
      "outputs": [
        {
          "output_type": "execute_result",
          "data": {
            "text/plain": [
              "1"
            ]
          },
          "metadata": {
            "tags": []
          },
          "execution_count": 9
        }
      ]
    },
    {
      "cell_type": "code",
      "metadata": {
        "colab": {
          "base_uri": "https://localhost:8080/"
        },
        "id": "_rNW9K0EpCTW",
        "outputId": "0270fc49-fb9f-41f0-8775-5458328b42a8"
      },
      "source": [
        "count = 0\r\n",
        "count = 1\r\n",
        "# 대입 설명하고 넘어가기\r\n",
        "count = count + 1\r\n",
        "count"
      ],
      "execution_count": null,
      "outputs": [
        {
          "output_type": "execute_result",
          "data": {
            "text/plain": [
              "2"
            ]
          },
          "metadata": {
            "tags": []
          },
          "execution_count": 11
        }
      ]
    },
    {
      "cell_type": "code",
      "metadata": {
        "colab": {
          "base_uri": "https://localhost:8080/"
        },
        "id": "_fcYRQmYpIVe",
        "outputId": "8a6143e5-997f-4454-94a9-53a3adf8b1a4"
      },
      "source": [
        "_count = 0\r\n",
        "count = count + 1\r\n",
        "\r\n",
        "# 아 귀찮아!\r\n",
        "\r\n",
        "count = 0\r\n",
        "count += 1\r\n",
        "\r\n",
        "print(_count, count)"
      ],
      "execution_count": null,
      "outputs": [
        {
          "output_type": "stream",
          "text": [
            "0 1\n"
          ],
          "name": "stdout"
        }
      ]
    },
    {
      "cell_type": "markdown",
      "metadata": {
        "id": "fnURA1hrpi8m"
      },
      "source": [
        "###**변수 이름**\r\n",
        "#### 문자와 숫자 _ 를 사용할 수 있음\r\n",
        "#### 대문자와 소문자를 구분함\r\n",
        "#### 공백은 사용할 수 없음\r\n",
        "#### 숫자로 시작할 수 없음\r\n",
        "#### 미리 예약된 이름은 사용할 수 없음"
      ]
    },
    {
      "cell_type": "code",
      "metadata": {
        "id": "n22lOCoErQoo"
      },
      "source": [
        "#### 문자와 숫자 _ 를 사용할 수 있음\r\n",
        "count = 0\r\n",
        "_count = 1"
      ],
      "execution_count": null,
      "outputs": []
    },
    {
      "cell_type": "code",
      "metadata": {
        "id": "QwI7sSxfrXBf"
      },
      "source": [
        "#### 대문자와 소문자를 구분함\r\n",
        "Count = 0\r\n",
        "count = 1\r\n",
        "print(Count, count)"
      ],
      "execution_count": null,
      "outputs": []
    },
    {
      "cell_type": "code",
      "metadata": {
        "colab": {
          "base_uri": "https://localhost:8080/",
          "height": 136
        },
        "id": "QbpeVwBtrcRA",
        "outputId": "f36f1322-94db-41ac-d488-d62e5ca9ff23"
      },
      "source": [
        "#### 공백은 사용할 수 없음\r\n",
        "c o u n t = 0\r\n",
        " count = 0"
      ],
      "execution_count": null,
      "outputs": [
        {
          "output_type": "error",
          "ename": "IndentationError",
          "evalue": "ignored",
          "traceback": [
            "\u001b[0;36m  File \u001b[0;32m\"<ipython-input-16-9b4787a64059>\"\u001b[0;36m, line \u001b[0;32m3\u001b[0m\n\u001b[0;31m    count = 0\u001b[0m\n\u001b[0m    ^\u001b[0m\n\u001b[0;31mIndentationError\u001b[0m\u001b[0;31m:\u001b[0m unexpected indent\n"
          ]
        }
      ]
    },
    {
      "cell_type": "code",
      "metadata": {
        "colab": {
          "base_uri": "https://localhost:8080/",
          "height": 136
        },
        "id": "q5CyeBAeroF3",
        "outputId": "a934f8e9-dfd0-47c5-9527-331433e8c415"
      },
      "source": [
        "#### 숫자로 시작할 수 없음\r\n",
        "0Count = 0"
      ],
      "execution_count": null,
      "outputs": [
        {
          "output_type": "error",
          "ename": "SyntaxError",
          "evalue": "ignored",
          "traceback": [
            "\u001b[0;36m  File \u001b[0;32m\"<ipython-input-17-e18cce2a63e6>\"\u001b[0;36m, line \u001b[0;32m2\u001b[0m\n\u001b[0;31m    0Count = 0\u001b[0m\n\u001b[0m         ^\u001b[0m\n\u001b[0;31mSyntaxError\u001b[0m\u001b[0;31m:\u001b[0m invalid syntax\n"
          ]
        }
      ]
    },
    {
      "cell_type": "code",
      "metadata": {
        "id": "23EtJcKjrshU"
      },
      "source": [
        "#### 미리 예약된 이름은 사용할 수 없음\r\n",
        "# 예약어 = 특정 기능을 수행하도록 미리 예약되어 있는 단어\r\n",
        "True = 1\r\n",
        "False = 0\r\n",
        "if = 1\r\n",
        "elif = 0\r\n"
      ],
      "execution_count": null,
      "outputs": []
    },
    {
      "cell_type": "markdown",
      "metadata": {
        "id": "0AVvYIPms964"
      },
      "source": [
        "##깜짝 퀴즈"
      ]
    },
    {
      "cell_type": "markdown",
      "metadata": {
        "id": "R4XQs8XltYvw"
      },
      "source": [
        "뽀야미의 몸무게는 5kg\r\n",
        "문대의 몸무게는 10kg\r\n",
        "차둘이의 몸무게는 100kg\r\n",
        "\r\n",
        "뽀야미와 문대 차둘이의 몸무게를 각각 1, 2, 3 배한뒤 그 합을 출력해보자"
      ]
    },
    {
      "cell_type": "markdown",
      "metadata": {
        "id": "bOhc1gGcucH5"
      },
      "source": [
        "##너무나도 소중한 **List**"
      ]
    },
    {
      "cell_type": "code",
      "metadata": {
        "colab": {
          "base_uri": "https://localhost:8080/"
        },
        "id": "-lCD2GC7usRg",
        "outputId": "69e5acd3-5166-4a8c-8d66-0d45c99dbd7c"
      },
      "source": [
        "my_list = []\r\n",
        "my_list"
      ],
      "execution_count": null,
      "outputs": [
        {
          "output_type": "execute_result",
          "data": {
            "text/plain": [
              "[]"
            ]
          },
          "metadata": {
            "tags": []
          },
          "execution_count": 27
        }
      ]
    },
    {
      "cell_type": "code",
      "metadata": {
        "colab": {
          "base_uri": "https://localhost:8080/"
        },
        "id": "iD8WVnpzuvoP",
        "outputId": "292ad54a-b044-4001-9814-dc814b42e4bc"
      },
      "source": [
        "my_list2 = [1, -2, \"hi\"]\r\n",
        "my_list2"
      ],
      "execution_count": null,
      "outputs": [
        {
          "output_type": "execute_result",
          "data": {
            "text/plain": [
              "[1, -2, 3.14]"
            ]
          },
          "metadata": {
            "tags": []
          },
          "execution_count": 28
        }
      ]
    },
    {
      "cell_type": "markdown",
      "metadata": {
        "id": "Cvl7airYu2ni"
      },
      "source": [
        "### 값에 접근"
      ]
    },
    {
      "cell_type": "code",
      "metadata": {
        "colab": {
          "base_uri": "https://localhost:8080/"
        },
        "id": "txr9dwk_u5QY",
        "outputId": "884fa2d2-423b-4829-81d6-c4f724e9a50e"
      },
      "source": [
        "my_list2[0]"
      ],
      "execution_count": null,
      "outputs": [
        {
          "output_type": "execute_result",
          "data": {
            "text/plain": [
              "1"
            ]
          },
          "metadata": {
            "tags": []
          },
          "execution_count": 30
        }
      ]
    },
    {
      "cell_type": "code",
      "metadata": {
        "colab": {
          "base_uri": "https://localhost:8080/"
        },
        "id": "kqviv_epvBp4",
        "outputId": "d8ce772a-8ed1-4a05-97c3-dfc76ffe2fd7"
      },
      "source": [
        "my_list2[1]"
      ],
      "execution_count": null,
      "outputs": [
        {
          "output_type": "execute_result",
          "data": {
            "text/plain": [
              "-2"
            ]
          },
          "metadata": {
            "tags": []
          },
          "execution_count": 31
        }
      ]
    },
    {
      "cell_type": "code",
      "metadata": {
        "colab": {
          "base_uri": "https://localhost:8080/"
        },
        "id": "MesOnDuevEHA",
        "outputId": "bf1e0df7-7037-4e3f-b6c0-de8ae81372bf"
      },
      "source": [
        "my_list2[2]"
      ],
      "execution_count": null,
      "outputs": [
        {
          "output_type": "execute_result",
          "data": {
            "text/plain": [
              "3.14"
            ]
          },
          "metadata": {
            "tags": []
          },
          "execution_count": 33
        }
      ]
    },
    {
      "cell_type": "code",
      "metadata": {
        "colab": {
          "base_uri": "https://localhost:8080/",
          "height": 172
        },
        "id": "zX6qJXtVvJwK",
        "outputId": "4b4914fc-976c-4b17-d1ff-26b288eb23df"
      },
      "source": [
        "my_list[0]"
      ],
      "execution_count": null,
      "outputs": [
        {
          "output_type": "error",
          "ename": "IndexError",
          "evalue": "ignored",
          "traceback": [
            "\u001b[0;31m---------------------------------------------------------------------------\u001b[0m",
            "\u001b[0;31mIndexError\u001b[0m                                Traceback (most recent call last)",
            "\u001b[0;32m<ipython-input-34-12179507dd42>\u001b[0m in \u001b[0;36m<module>\u001b[0;34m()\u001b[0m\n\u001b[0;32m----> 1\u001b[0;31m \u001b[0mmy_list\u001b[0m\u001b[0;34m[\u001b[0m\u001b[0;36m0\u001b[0m\u001b[0;34m]\u001b[0m\u001b[0;34m\u001b[0m\u001b[0;34m\u001b[0m\u001b[0m\n\u001b[0m",
            "\u001b[0;31mIndexError\u001b[0m: list index out of range"
          ]
        }
      ]
    },
    {
      "cell_type": "markdown",
      "metadata": {
        "id": "e9pn9Vx866iB"
      },
      "source": [
        "### Indexing\r\n"
      ]
    },
    {
      "cell_type": "code",
      "metadata": {
        "colab": {
          "base_uri": "https://localhost:8080/"
        },
        "id": "Ythgns2g6c6C",
        "outputId": "1ef20ca2-7783-4b4d-f543-24d8d336f0aa"
      },
      "source": [
        "my_list = list(range(10))\r\n",
        "print(my_list)\r\n",
        "my_list[0:1]\r\n",
        "my_list[0:7]\r\n",
        "my_list[-1]\r\n",
        "my_list[-2]\r\n",
        "my_list[:3]\r\n",
        "my_list[3:]\r\n",
        "#2 뒤에 3 낑가넣기\r\n",
        "my_list[:3] + [3] + my_list[3:]\r\n",
        "# full_slice 안에 my_list의 모든 값 넣어주자!\r\n",
        "full_slice = my_list[:]\r\n",
        "#역정렬\r\n",
        "reverse_full_slice = my_list[::-1]\r\n",
        "#띄어서 출력\r\n",
        "my_list[0:7:2]\r\n",
        "my_list[0::3]\r\n"
      ],
      "execution_count": null,
      "outputs": [
        {
          "output_type": "stream",
          "text": [
            "[0, 1, 2, 3, 4, 5, 6, 7, 8, 9]\n"
          ],
          "name": "stdout"
        },
        {
          "output_type": "execute_result",
          "data": {
            "text/plain": [
              "[0, 3, 6, 9]"
            ]
          },
          "metadata": {
            "tags": []
          },
          "execution_count": 34
        }
      ]
    },
    {
      "cell_type": "markdown",
      "metadata": {
        "id": "zuSnMZwwHNkn"
      },
      "source": [
        "#### list 원소 추가"
      ]
    },
    {
      "cell_type": "code",
      "metadata": {
        "colab": {
          "base_uri": "https://localhost:8080/"
        },
        "id": "hDvUUolrHGwS",
        "outputId": "7fa128d2-a36c-489f-cbbb-f2a8b176b716"
      },
      "source": [
        "a = [1, 2, 3, 4, 5]\r\n",
        "a.append(6)\r\n",
        "a"
      ],
      "execution_count": null,
      "outputs": [
        {
          "output_type": "execute_result",
          "data": {
            "text/plain": [
              "[1, 2, 3, 4, 5, 6]"
            ]
          },
          "metadata": {
            "tags": []
          },
          "execution_count": 36
        }
      ]
    },
    {
      "cell_type": "code",
      "metadata": {
        "colab": {
          "base_uri": "https://localhost:8080/"
        },
        "id": "wY3GYwbiHXkX",
        "outputId": "501532c7-367c-4efc-f0db-c92acaecc41d"
      },
      "source": [
        "#1 뒤에 5 넣기\r\n",
        "a = [1,2,3]\r\n",
        "a.insert(1,5)\r\n",
        "a"
      ],
      "execution_count": null,
      "outputs": [
        {
          "output_type": "execute_result",
          "data": {
            "text/plain": [
              "[1, 5, 2, 3]"
            ]
          },
          "metadata": {
            "tags": []
          },
          "execution_count": 38
        }
      ]
    },
    {
      "cell_type": "code",
      "metadata": {
        "colab": {
          "base_uri": "https://localhost:8080/"
        },
        "id": "do7ICoSyHitN",
        "outputId": "f5fd8906-b9c9-4096-b613-19f8cc2a3753"
      },
      "source": [
        "#list를 더할 수도 있다\r\n",
        "a = [1,2,3]\r\n",
        "b = [4,5,6]\r\n",
        "c = a + b\r\n",
        "c"
      ],
      "execution_count": null,
      "outputs": [
        {
          "output_type": "execute_result",
          "data": {
            "text/plain": [
              "[1, 2, 3, 4, 5, 6]"
            ]
          },
          "metadata": {
            "tags": []
          },
          "execution_count": 40
        }
      ]
    },
    {
      "cell_type": "code",
      "metadata": {
        "id": "ygCVIhmGHsq9",
        "colab": {
          "base_uri": "https://localhost:8080/"
        },
        "outputId": "47c3aa30-4d3e-4be7-f7b3-61b035680023"
      },
      "source": [
        "#list 확장도 가능\r\n",
        "a = [1,2,3]\r\n",
        "a.extend([4,5,6])\r\n",
        "a"
      ],
      "execution_count": null,
      "outputs": [
        {
          "output_type": "execute_result",
          "data": {
            "text/plain": [
              "[1, 2, 3, 4, 5, 6]"
            ]
          },
          "metadata": {
            "tags": []
          },
          "execution_count": 42
        }
      ]
    },
    {
      "cell_type": "markdown",
      "metadata": {
        "id": "WW97udvfwMvs"
      },
      "source": [
        "###값 제거하기"
      ]
    },
    {
      "cell_type": "code",
      "metadata": {
        "colab": {
          "base_uri": "https://localhost:8080/"
        },
        "id": "OBK7v_Smwm4c",
        "outputId": "552cb23a-b7ac-4841-f5fa-8bcca6c326d9"
      },
      "source": [
        "strange_list = [1, 2, 3, \"hi\"]\r\n",
        "# del 키워드를 통한 삭제\r\n",
        "del strange_list[3]\r\n",
        "print(strange_list)"
      ],
      "execution_count": null,
      "outputs": [
        {
          "output_type": "stream",
          "text": [
            "[1, 2, 3]\n",
            "0\n"
          ],
          "name": "stdout"
        }
      ]
    },
    {
      "cell_type": "code",
      "metadata": {
        "colab": {
          "base_uri": "https://localhost:8080/"
        },
        "id": "8h_djB-WySXZ",
        "outputId": "2691280c-485b-4f68-c7ab-21c7ca5bd31d"
      },
      "source": [
        "strange_list = [1, 2, 3, \"hi\"]\r\n",
        "# remove 메소드에 의한 삭제\r\n",
        "# remove(찾을 아이템)\r\n",
        "strange_list.remove(1)\r\n",
        "strange_list"
      ],
      "execution_count": null,
      "outputs": [
        {
          "output_type": "execute_result",
          "data": {
            "text/plain": [
              "[2, 3, 'hi']"
            ]
          },
          "metadata": {
            "tags": []
          },
          "execution_count": 4
        }
      ]
    },
    {
      "cell_type": "code",
      "metadata": {
        "colab": {
          "base_uri": "https://localhost:8080/"
        },
        "id": "OhyVjfzOyp-r",
        "outputId": "37d8e83d-bc91-47e9-8627-d55c15e4663f"
      },
      "source": [
        "strange_list = [1, 2, 3, \"hi\"]\r\n",
        "# 아이템을 찾는 방법\r\n",
        "#list.index(찾을 아이템) -> return 아이템의 위치\r\n",
        "print(strange_list.index(1))\r\n",
        "print(strange_list.index(2))\r\n",
        "print(strange_list.index(3))"
      ],
      "execution_count": null,
      "outputs": [
        {
          "output_type": "stream",
          "text": [
            "0\n",
            "1\n",
            "2\n"
          ],
          "name": "stdout"
        }
      ]
    },
    {
      "cell_type": "markdown",
      "metadata": {
        "id": "F9EayJN9ZB7i"
      },
      "source": [
        "### 깜짝 퀴즈"
      ]
    },
    {
      "cell_type": "code",
      "metadata": {
        "id": "hWblAkTeY_s7"
      },
      "source": [
        "strange_list = [1, 2, 3, \"hi\"]\r\n",
        "#del 로 \"hi\" 를 지워보자!"
      ],
      "execution_count": null,
      "outputs": []
    },
    {
      "cell_type": "markdown",
      "metadata": {
        "id": "-XCLwhKUUsNO"
      },
      "source": [
        "### 정렬 (개꿀 파이썬)"
      ]
    },
    {
      "cell_type": "code",
      "metadata": {
        "colab": {
          "base_uri": "https://localhost:8080/"
        },
        "id": "CKsOkt2DUqp2",
        "outputId": "2a477702-5873-4f3c-c2ee-c16a25f5d855"
      },
      "source": [
        "# 정렬 개쉽다\r\n",
        "\r\n",
        "num = [1, 4, 3, 5, 6, 7]\r\n",
        "num.sort()\r\n",
        "# sort 를 거치지 않고 그냥 바로 reverse 를 하게 된다면 7 6 4 3 4 1 이 나온다.\r\n",
        "num.reverse()\r\n",
        "num"
      ],
      "execution_count": null,
      "outputs": [
        {
          "output_type": "execute_result",
          "data": {
            "text/plain": [
              "[7, 6, 5, 3, 4, 1]"
            ]
          },
          "metadata": {
            "tags": []
          },
          "execution_count": 5
        }
      ]
    },
    {
      "cell_type": "code",
      "metadata": {
        "colab": {
          "base_uri": "https://localhost:8080/"
        },
        "id": "7Ax0hIpZVQ7F",
        "outputId": "e6060903-713d-4bb5-a581-70fc7d571bc2"
      },
      "source": [
        "# 문자열의 경우에는 아스키 코드를 기준으로 오름 차순으로 정렬한다.\r\n",
        "# 첫번째 문자가 서로 같을 경우에는 두번째 문자를 비교한다.\r\n",
        "string = [\"Apple\", \"Boanana\",\"Boaay\" ,\"Candy\"]\r\n",
        "sorted(string)\r\n",
        "\r\n",
        "string = sorted(string, key = len)\r\n",
        "string.sort(key = len, reverse = True)\r\n",
        "print(string)"
      ],
      "execution_count": 28,
      "outputs": [
        {
          "output_type": "stream",
          "text": [
            "['Boanana', 'Apple', 'Boaay', 'Candy']\n"
          ],
          "name": "stdout"
        }
      ]
    },
    {
      "cell_type": "code",
      "metadata": {
        "colab": {
          "base_uri": "https://localhost:8080/"
        },
        "id": "TBmbpEf_XOyu",
        "outputId": "740b34c2-77f7-4afa-9dff-91bc5c91c40a"
      },
      "source": [
        "cards = [\"A\", \"A\", \"B\", \"C\", \"C\", \"C\", \"D\", \"E\"]\r\n",
        "print(cards.count(\"A\"))"
      ],
      "execution_count": null,
      "outputs": [
        {
          "output_type": "stream",
          "text": [
            "2\n"
          ],
          "name": "stdout"
        }
      ]
    },
    {
      "cell_type": "markdown",
      "metadata": {
        "id": "dHcFz55datIm"
      },
      "source": [
        "### 조금... 어려울지도...?"
      ]
    },
    {
      "cell_type": "code",
      "metadata": {
        "colab": {
          "base_uri": "https://localhost:8080/"
        },
        "id": "vc7iF5fjaymV",
        "outputId": "8274236d-b96f-43f6-848c-0dea70a00a4c"
      },
      "source": [
        "# sorted 에 key 를 추가해줄 수 있다는 것을 배웠다\r\n",
        "string = [\"AA\", \"BBB\", \"CCCCC\", \"DDDD\"]\r\n",
        "print(sorted(string, key = len))"
      ],
      "execution_count": 29,
      "outputs": [
        {
          "output_type": "stream",
          "text": [
            "['AA', 'BBB', 'DDDD', 'CCCCC']\n"
          ],
          "name": "stdout"
        }
      ]
    },
    {
      "cell_type": "code",
      "metadata": {
        "colab": {
          "base_uri": "https://localhost:8080/"
        },
        "id": "otTgItUoaaum",
        "outputId": "4d93dfda-1de6-421c-a3d3-eedfa3f0046b"
      },
      "source": [
        "# 만약 문자열의 2번째에 있는 값을 비교하여 문자열이 빠른순서대로 정렬하고 싶다면\r\n",
        "# 만약에 두 문자의 순서가 같다면 그 다음에는 길이로 비교한다.\r\n",
        "\r\n",
        "string = [\"AA\", \"BBB\", \"CCCCC\", \"DCDD\"]\r\n",
        "\r\n",
        "print(sorted(string, key = lambda x : (x[1], len(x))))\r\n",
        "\r\n",
        "num = (lambda x, y : x + y)(10, 20)\r\n",
        "\r\n",
        "print(num)"
      ],
      "execution_count": 35,
      "outputs": [
        {
          "output_type": "stream",
          "text": [
            "['AA', 'BBB', 'DCDD', 'CCCCC']\n",
            "30\n"
          ],
          "name": "stdout"
        }
      ]
    },
    {
      "cell_type": "markdown",
      "metadata": {
        "id": "yQ7Jm78HXvS-"
      },
      "source": [
        "### 깜짝 퀴즈\r\n",
        "문자열 s에 나타나는 문자를 큰것부터 작은 순으로 정렬해 새로운 문자열을 리턴하는 함수, solution을 완성해주세요.\r\n",
        "\r\n",
        "s는 영문 대소문자로만 구성되어 있으며, 대문자는 소문자보다 작은 것으로 간주합니다."
      ]
    },
    {
      "cell_type": "markdown",
      "metadata": {
        "id": "1QsRCMA2ZZ9e"
      },
      "source": [
        "### 반복문\r\n",
        "- for"
      ]
    },
    {
      "cell_type": "code",
      "metadata": {
        "colab": {
          "base_uri": "https://localhost:8080/"
        },
        "id": "j0r5wMsvZeFW",
        "outputId": "4c554a14-506c-4f8c-f063-5fc326febbfe"
      },
      "source": [
        "# for 문 사용\r\n",
        "# for i in range(반복할 횟수):\r\n",
        "count = 0\r\n",
        "for i in range(10):\r\n",
        "  count += 1\r\n",
        "  print(i)\r\n",
        "print(\"총 반복 횟수 : \", count)"
      ],
      "execution_count": 26,
      "outputs": [
        {
          "output_type": "stream",
          "text": [
            "0\n",
            "1\n",
            "2\n",
            "3\n",
            "4\n",
            "5\n",
            "6\n",
            "7\n",
            "8\n",
            "9\n",
            "총 반복 횟수 :  10\n"
          ],
          "name": "stdout"
        }
      ]
    },
    {
      "cell_type": "markdown",
      "metadata": {
        "id": "sa26R3PAehgL"
      },
      "source": [
        "### eval()\r\n",
        "## Eval 함수란?"
      ]
    },
    {
      "cell_type": "code",
      "metadata": {
        "colab": {
          "base_uri": "https://localhost:8080/"
        },
        "id": "5vPNImZpftkU",
        "outputId": "e9720558-6579-418d-97e4-e9ee94d7b328"
      },
      "source": [
        "# 문자열 덧셈\r\n",
        "a = eval(\"'Life' + ' ' + 'is' + ' ' + 'Short'\")\r\n",
        "print(type(a))\r\n",
        "a\r\n",
        "\r\n",
        "b = eval(\" 100 + 32 \")\r\n",
        "print(type(b))\r\n",
        "b"
      ],
      "execution_count": 43,
      "outputs": [
        {
          "output_type": "stream",
          "text": [
            "<class 'str'>\n",
            "<class 'int'>\n"
          ],
          "name": "stdout"
        },
        {
          "output_type": "execute_result",
          "data": {
            "text/plain": [
              "132"
            ]
          },
          "metadata": {
            "tags": []
          },
          "execution_count": 43
        }
      ]
    },
    {
      "cell_type": "markdown",
      "metadata": {
        "id": "4j7EBjUtaCyp"
      },
      "source": [
        "### 우리는 List 도 알고 for 문도 아니까!"
      ]
    },
    {
      "cell_type": "code",
      "metadata": {
        "colab": {
          "base_uri": "https://localhost:8080/"
        },
        "id": "x2UBOPoqZZlx",
        "outputId": "1e97c9e7-7cd1-4a9a-a0ec-b2d700ebb368"
      },
      "source": [
        "list = [\"A\", \"B\", \"C\", \"D\", \"E\"]\r\n",
        "for i in list:\r\n",
        "  print(i)\r\n",
        "\r\n",
        "list = [\"1\", \"2\", \"3\", \"4\"]\r\n",
        "list = [int(num) for num in list]\r\n",
        "\r\n",
        "print(list)"
      ],
      "execution_count": 37,
      "outputs": [
        {
          "output_type": "stream",
          "text": [
            "A\n",
            "B\n",
            "C\n",
            "D\n",
            "E\n",
            "[1, 2, 3, 4]\n"
          ],
          "name": "stdout"
        }
      ]
    },
    {
      "cell_type": "markdown",
      "metadata": {
        "id": "z-frG6ktg9RJ"
      },
      "source": [
        "While 문"
      ]
    },
    {
      "cell_type": "code",
      "metadata": {
        "colab": {
          "base_uri": "https://localhost:8080/"
        },
        "id": "soHw6_vfZT7Q",
        "outputId": "596eb7a1-bf67-41a7-f93d-8725d72806d2"
      },
      "source": [
        "count = 0\r\n",
        "while count < 10:\r\n",
        "  count += 1\r\n",
        "  print(count)"
      ],
      "execution_count": 44,
      "outputs": [
        {
          "output_type": "stream",
          "text": [
            "1\n",
            "2\n",
            "3\n",
            "4\n",
            "5\n",
            "6\n",
            "7\n",
            "8\n",
            "9\n",
            "10\n"
          ],
          "name": "stdout"
        }
      ]
    },
    {
      "cell_type": "code",
      "metadata": {
        "id": "5LLI4vqKh9Dw"
      },
      "source": [
        ""
      ],
      "execution_count": null,
      "outputs": []
    },
    {
      "cell_type": "markdown",
      "metadata": {
        "id": "FVS6gzG8kYR2"
      },
      "source": [
        "###자료형"
      ]
    },
    {
      "cell_type": "code",
      "metadata": {
        "colab": {
          "base_uri": "https://localhost:8080/"
        },
        "id": "vqi_Zm1vkiJ9",
        "outputId": "40a0e761-fa82-40ad-831b-979c0e6d8127"
      },
      "source": [
        "print(type('A'))\r\n",
        "print(type(6))\r\n",
        "print(type(2.8))\r\n",
        "print(type(3+4j))\r\n",
        "print(type([1, 2, 3, 4]))\r\n",
        "print(type((1, 2, 3, 4)))\r\n",
        "print(type(print))"
      ],
      "execution_count": null,
      "outputs": [
        {
          "output_type": "stream",
          "text": [
            "<class 'str'>\n",
            "<class 'int'>\n",
            "<class 'float'>\n",
            "<class 'complex'>\n",
            "<class 'list'>\n",
            "<class 'tuple'>\n",
            "<class 'builtin_function_or_method'>\n"
          ],
          "name": "stdout"
        }
      ]
    },
    {
      "cell_type": "code",
      "metadata": {
        "id": "1LORRUEKmpIj"
      },
      "source": [
        ""
      ],
      "execution_count": null,
      "outputs": []
    }
  ]
}