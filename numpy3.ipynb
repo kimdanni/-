{
  "nbformat": 4,
  "nbformat_minor": 0,
  "metadata": {
    "colab": {
      "name": "[실습]Ch06.numpy - 07.arange,range.ipynb",
      "provenance": [],
      "collapsed_sections": [],
      "include_colab_link": true
    },
    "kernelspec": {
      "name": "python3",
      "display_name": "Python 3"
    }
  },
  "cells": [
    {
      "cell_type": "markdown",
      "metadata": {
        "id": "view-in-github",
        "colab_type": "text"
      },
      "source": [
        "<a href=\"https://colab.research.google.com/github/kimdanni/python/blob/circleci-project-setup/numpy3.ipynb\" target=\"_parent\"><img src=\"https://colab.research.google.com/assets/colab-badge.svg\" alt=\"Open In Colab\"/></a>"
      ]
    },
    {
      "cell_type": "code",
      "metadata": {
        "id": "q9-VjchqYrZc",
        "colab_type": "code",
        "colab": {}
      },
      "source": [
        "import numpy as np"
      ],
      "execution_count": 2,
      "outputs": []
    },
    {
      "cell_type": "markdown",
      "metadata": {
        "id": "Jlkq_eLvZAXJ",
        "colab_type": "text"
      },
      "source": [
        "## 1. arange란?"
      ]
    },
    {
      "cell_type": "markdown",
      "metadata": {
        "id": "qHT2C5eSZCwp",
        "colab_type": "text"
      },
      "source": [
        "arange와 range를 같이 보고 이해하시면 됩니다.\n",
        "(당연히 개념도 매우 직관적이고 쉽습니다)"
      ]
    },
    {
      "cell_type": "markdown",
      "metadata": {
        "id": "7ASNxnlzZMiI",
        "colab_type": "text"
      },
      "source": [
        "**[실제 상황 예시]**\n",
        "\n",
        "우리는 순차적인 값을 생성할 때가 많습니다. 예를 들면 다음과 같습니다.\n",
        "\n",
        "1. 회원에 대한 가입 번호 부여 (1번 회원부터 순차적으로~)\n",
        "2. 100개 한정 판매 상품에 대한 고유 번호 부여\n",
        "\n",
        "등등.. 이 밖에도 데이터 관리를 위한 인덱스를 차례대로 부여하는 것은 매우 흔한 일입니다. (심지어, 엑셀에서도 왼쪽 행에 1번부터~ 쭈욱 부여 되죠?)"
      ]
    },
    {
      "cell_type": "markdown",
      "metadata": {
        "id": "JJMFhTTMadAu",
        "colab_type": "text"
      },
      "source": [
        "### 1-1. 순서대로 리스트에 값을 생성하려면?"
      ]
    },
    {
      "cell_type": "markdown",
      "metadata": {
        "id": "nyBZLk2oc2sb",
        "colab_type": "text"
      },
      "source": [
        "1~10까지 값을 생성하려면?"
      ]
    },
    {
      "cell_type": "code",
      "metadata": {
        "id": "DUPdcWj3b8YI",
        "colab_type": "code",
        "colab": {}
      },
      "source": [
        "arr = [1, 2, 3, 4, 5, 6, 7, 8, 9, 10]"
      ],
      "execution_count": 3,
      "outputs": []
    },
    {
      "cell_type": "code",
      "metadata": {
        "id": "I66ivEa8c8Ok",
        "colab_type": "code",
        "colab": {
          "base_uri": "https://localhost:8080/",
          "height": 34
        },
        "outputId": "d56d5f99-bc74-4b7b-c6c4-46a727fbce41"
      },
      "source": [
        "arr"
      ],
      "execution_count": 4,
      "outputs": [
        {
          "output_type": "execute_result",
          "data": {
            "text/plain": [
              "[1, 2, 3, 4, 5, 6, 7, 8, 9, 10]"
            ]
          },
          "metadata": {
            "tags": []
          },
          "execution_count": 4
        }
      ]
    },
    {
      "cell_type": "markdown",
      "metadata": {
        "id": "toy77tE5c_DW",
        "colab_type": "text"
      },
      "source": [
        "### 1-2. arange를 사용해서 쉽게 생성하기"
      ]
    },
    {
      "cell_type": "markdown",
      "metadata": {
        "id": "E0cdCSnVdHlK",
        "colab_type": "text"
      },
      "source": [
        "첫번째 인자에는 **start 이상**, 두번째 인자에는 **stop의 미만** 이 들어갑니다."
      ]
    },
    {
      "cell_type": "code",
      "metadata": {
        "id": "EoH_TE8edDDm",
        "colab_type": "code",
        "colab": {}
      },
      "source": [
        "arr = np.arange(1, 11)"
      ],
      "execution_count": 5,
      "outputs": []
    },
    {
      "cell_type": "code",
      "metadata": {
        "id": "WPgM5vvfdGGX",
        "colab_type": "code",
        "colab": {
          "base_uri": "https://localhost:8080/",
          "height": 34
        },
        "outputId": "d7222286-7337-45f3-d383-91561f03a97e"
      },
      "source": [
        "arr"
      ],
      "execution_count": 6,
      "outputs": [
        {
          "output_type": "execute_result",
          "data": {
            "text/plain": [
              "array([ 1,  2,  3,  4,  5,  6,  7,  8,  9, 10])"
            ]
          },
          "metadata": {
            "tags": []
          },
          "execution_count": 6
        }
      ]
    },
    {
      "cell_type": "markdown",
      "metadata": {
        "id": "P9jsPX9jdGfH",
        "colab_type": "text"
      },
      "source": [
        "## 1-3. keyword 인자를 사용해보기"
      ]
    },
    {
      "cell_type": "markdown",
      "metadata": {
        "id": "BSsXCqTUdpWf",
        "colab_type": "text"
      },
      "source": [
        "keyword 인자는 파라미터(인자)의 keyword를 지정해줌으로썬 순서 없이 지정해 줄 수 있습니다."
      ]
    },
    {
      "cell_type": "code",
      "metadata": {
        "id": "XquA7klSdwoP",
        "colab_type": "code",
        "colab": {}
      },
      "source": [
        "arr = np.arange(1, 11)\n"
      ],
      "execution_count": 8,
      "outputs": []
    },
    {
      "cell_type": "code",
      "metadata": {
        "id": "KBJ169jBd22H",
        "colab_type": "code",
        "colab": {
          "base_uri": "https://localhost:8080/",
          "height": 34
        },
        "outputId": "ade5d06e-69f0-4469-d6be-37c0515f70e9"
      },
      "source": [
        "arr"
      ],
      "execution_count": 9,
      "outputs": [
        {
          "output_type": "execute_result",
          "data": {
            "text/plain": [
              "array([ 1,  2,  3,  4,  5,  6,  7,  8,  9, 10])"
            ]
          },
          "metadata": {
            "tags": []
          },
          "execution_count": 9
        }
      ]
    },
    {
      "cell_type": "code",
      "metadata": {
        "id": "KLxLL3H4d3VP",
        "colab_type": "code",
        "colab": {}
      },
      "source": [
        "arr = np.arange(start = 1, stop = 11)"
      ],
      "execution_count": 11,
      "outputs": []
    },
    {
      "cell_type": "code",
      "metadata": {
        "id": "cM79U_lhd8Ho",
        "colab_type": "code",
        "colab": {
          "base_uri": "https://localhost:8080/",
          "height": 34
        },
        "outputId": "6f4638f1-0f64-449c-c034-74fa7fd81cdc"
      },
      "source": [
        "arr"
      ],
      "execution_count": 13,
      "outputs": [
        {
          "output_type": "execute_result",
          "data": {
            "text/plain": [
              "array([ 1,  2,  3,  4,  5,  6,  7,  8,  9, 10])"
            ]
          },
          "metadata": {
            "tags": []
          },
          "execution_count": 13
        }
      ]
    },
    {
      "cell_type": "code",
      "metadata": {
        "id": "71r_1Tk_ZBpK",
        "colab_type": "code",
        "colab": {}
      },
      "source": [
        "arr = np.arange(stop = 11, start = 1)"
      ],
      "execution_count": 14,
      "outputs": []
    },
    {
      "cell_type": "code",
      "metadata": {
        "id": "hii13wXDZH3h",
        "colab_type": "code",
        "colab": {
          "base_uri": "https://localhost:8080/",
          "height": 34
        },
        "outputId": "91dd9f31-3b82-4b19-a2a5-3a2da510e7df"
      },
      "source": [
        "arr"
      ],
      "execution_count": 15,
      "outputs": [
        {
          "output_type": "execute_result",
          "data": {
            "text/plain": [
              "array([ 1,  2,  3,  4,  5,  6,  7,  8,  9, 10])"
            ]
          },
          "metadata": {
            "tags": []
          },
          "execution_count": 15
        }
      ]
    },
    {
      "cell_type": "markdown",
      "metadata": {
        "id": "1cfrkQUTd8u3",
        "colab_type": "text"
      },
      "source": [
        "### 1-4. 홀수의 값만 생성"
      ]
    },
    {
      "cell_type": "markdown",
      "metadata": {
        "id": "qnni1pROeDNH",
        "colab_type": "text"
      },
      "source": [
        "1~10 사이의 값중 홀수만 생성해 보세요."
      ]
    },
    {
      "cell_type": "markdown",
      "metadata": {
        "id": "duKF0dZsaH-3",
        "colab_type": "text"
      },
      "source": [
        "**step 키워드 활용**"
      ]
    },
    {
      "cell_type": "code",
      "metadata": {
        "id": "Q6HM3_0fZgAu",
        "colab_type": "code",
        "colab": {}
      },
      "source": [
        "arr = np.arange(1,11,2)"
      ],
      "execution_count": 22,
      "outputs": []
    },
    {
      "cell_type": "code",
      "metadata": {
        "id": "NtzND3XMZ1Qr",
        "colab_type": "code",
        "colab": {
          "base_uri": "https://localhost:8080/",
          "height": 34
        },
        "outputId": "ad269d55-f407-4cc8-90a3-8b05ebd7f3e2"
      },
      "source": [
        "arr"
      ],
      "execution_count": 23,
      "outputs": [
        {
          "output_type": "execute_result",
          "data": {
            "text/plain": [
              "array([1, 3, 5, 7, 9])"
            ]
          },
          "metadata": {
            "tags": []
          },
          "execution_count": 23
        }
      ]
    },
    {
      "cell_type": "code",
      "metadata": {
        "id": "Km2Y-H9GeOJw",
        "colab_type": "code",
        "colab": {}
      },
      "source": [
        "arr = np.arange(start = 1, stop = 11, step = 2)"
      ],
      "execution_count": 25,
      "outputs": []
    },
    {
      "cell_type": "code",
      "metadata": {
        "id": "qFkEtpj6eRf5",
        "colab_type": "code",
        "colab": {
          "base_uri": "https://localhost:8080/",
          "height": 34
        },
        "outputId": "bf91a866-6e31-40ad-99b9-2922d645135d"
      },
      "source": [
        "arr"
      ],
      "execution_count": 26,
      "outputs": [
        {
          "output_type": "execute_result",
          "data": {
            "text/plain": [
              "array([1, 3, 5, 7, 9])"
            ]
          },
          "metadata": {
            "tags": []
          },
          "execution_count": 26
        }
      ]
    },
    {
      "cell_type": "markdown",
      "metadata": {
        "id": "CGXt-yz1eW-u",
        "colab_type": "text"
      },
      "source": [
        "## 2. range (numpy와는 상관없는 python 문법)"
      ]
    },
    {
      "cell_type": "markdown",
      "metadata": {
        "id": "C2d4HSjbeXBG",
        "colab_type": "text"
      },
      "source": [
        "* range는 말 그대로 범위를 지정해 주는 것입니다.\n",
        "* np.arange와 헷갈리시는 분들이 많아 이번 시간에 같이 다룹니다.\n",
        "* 보통 for in 의 반복문에서 많이 사용됩니다."
      ]
    },
    {
      "cell_type": "code",
      "metadata": {
        "id": "7QyWC0d-eXDe",
        "colab_type": "code",
        "colab": {}
      },
      "source": [
        "arr = np.arange(1, 11)"
      ],
      "execution_count": 27,
      "outputs": []
    },
    {
      "cell_type": "code",
      "metadata": {
        "id": "ZDpnpl6delRP",
        "colab_type": "code",
        "colab": {
          "base_uri": "https://localhost:8080/",
          "height": 34
        },
        "outputId": "37807bfb-25ee-46a7-8e5a-9af6f5ce1a52"
      },
      "source": [
        "arr"
      ],
      "execution_count": 28,
      "outputs": [
        {
          "output_type": "execute_result",
          "data": {
            "text/plain": [
              "array([ 1,  2,  3,  4,  5,  6,  7,  8,  9, 10])"
            ]
          },
          "metadata": {
            "tags": []
          },
          "execution_count": 28
        }
      ]
    },
    {
      "cell_type": "code",
      "metadata": {
        "id": "ryyFPjKYfBIn",
        "colab_type": "code",
        "colab": {
          "base_uri": "https://localhost:8080/",
          "height": 191
        },
        "outputId": "adbc7511-f584-4f05-815c-195258b82264"
      },
      "source": [
        "for i in arr:\n",
        "    print(i)"
      ],
      "execution_count": 29,
      "outputs": [
        {
          "output_type": "stream",
          "text": [
            "1\n",
            "2\n",
            "3\n",
            "4\n",
            "5\n",
            "6\n",
            "7\n",
            "8\n",
            "9\n",
            "10\n"
          ],
          "name": "stdout"
        }
      ]
    },
    {
      "cell_type": "markdown",
      "metadata": {
        "id": "pILEfkE2fEfd",
        "colab_type": "text"
      },
      "source": [
        "### 2-1. range 구문 활용시"
      ]
    },
    {
      "cell_type": "code",
      "metadata": {
        "id": "vZl0-whyelvu",
        "colab_type": "code",
        "colab": {
          "base_uri": "https://localhost:8080/",
          "height": 191
        },
        "outputId": "bae2d21d-fa45-4898-8235-c084a2bb9c05"
      },
      "source": [
        "for i in range(1, 11):\n",
        "    print(i)"
      ],
      "execution_count": 30,
      "outputs": [
        {
          "output_type": "stream",
          "text": [
            "1\n",
            "2\n",
            "3\n",
            "4\n",
            "5\n",
            "6\n",
            "7\n",
            "8\n",
            "9\n",
            "10\n"
          ],
          "name": "stdout"
        }
      ]
    },
    {
      "cell_type": "code",
      "metadata": {
        "id": "FqCegWlvepj3",
        "colab_type": "code",
        "colab": {
          "base_uri": "https://localhost:8080/",
          "height": 104
        },
        "outputId": "ed15c7ca-db3c-4945-e25f-a07bebf2d4ba"
      },
      "source": [
        "for i in range(1, 11, 2):\n",
        "    print(i)"
      ],
      "execution_count": 31,
      "outputs": [
        {
          "output_type": "stream",
          "text": [
            "1\n",
            "3\n",
            "5\n",
            "7\n",
            "9\n"
          ],
          "name": "stdout"
        }
      ]
    }
  ]
}