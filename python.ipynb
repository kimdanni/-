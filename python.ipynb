{
  "nbformat": 4,
  "nbformat_minor": 0,
  "metadata": {
    "colab": {
      "name": "Untitled3.ipynb",
      "provenance": [],
      "collapsed_sections": [],
      "authorship_tag": "ABX9TyNyDf/owzuydeIDLw3NEyMm",
      "include_colab_link": true
    },
    "kernelspec": {
      "name": "python3",
      "display_name": "Python 3"
    }
  },
  "cells": [
    {
      "cell_type": "markdown",
      "metadata": {
        "id": "view-in-github",
        "colab_type": "text"
      },
      "source": [
        "<a href=\"https://colab.research.google.com/github/kimdanni/python/blob/circleci-project-setup/python.ipynb\" target=\"_parent\"><img src=\"https://colab.research.google.com/assets/colab-badge.svg\" alt=\"Open In Colab\"/></a>"
      ]
    },
    {
      "cell_type": "markdown",
      "metadata": {
        "id": "6c5VruODkGmm"
      },
      "source": [
        "## **Life is short, You need Python**\r\n"
      ]
    },
    {
      "cell_type": "markdown",
      "metadata": {
        "id": "9b652UCKlSTu"
      },
      "source": [
        "#### https://wikidocs.net/68\r\n",
        "#### 파이썬은 시스템 유틸리티 부터 웹 서버 데이터 분석\r\n",
        "#### 데이터 전처리 GUI 딥러닝 등 사용되는 분야가 넓다\r\n",
        "#### 언어 자체 문법이 매우 쉽고 간결해 진입장벽 낮음\r\n"
      ]
    },
    {
      "cell_type": "markdown",
      "metadata": {
        "id": "s0eojct-m9dW"
      },
      "source": [
        "파이썬으로 인사하는 법!\r\n"
      ]
    },
    {
      "cell_type": "code",
      "metadata": {
        "id": "QAYIzBNlm-Ze"
      },
      "source": [
        "print('안녕 얘들아! ^0^')"
      ],
      "execution_count": null,
      "outputs": []
    },
    {
      "cell_type": "markdown",
      "metadata": {
        "id": "fJbGPH7gnQw_"
      },
      "source": [
        "### 제곱 몫 나머지를 구해보자"
      ]
    },
    {
      "cell_type": "code",
      "metadata": {
        "colab": {
          "base_uri": "https://localhost:8080/"
        },
        "id": "pzYxFv2YnWYv",
        "outputId": "2a936e75-096d-4c75-9767-cadf35b85375"
      },
      "source": [
        "5 ** 2"
      ],
      "execution_count": 5,
      "outputs": [
        {
          "output_type": "execute_result",
          "data": {
            "text/plain": [
              "25"
            ]
          },
          "metadata": {
            "tags": []
          },
          "execution_count": 5
        }
      ]
    },
    {
      "cell_type": "code",
      "metadata": {
        "id": "8Ew_cRWInaag"
      },
      "source": [
        "5 // 2"
      ],
      "execution_count": null,
      "outputs": []
    },
    {
      "cell_type": "code",
      "metadata": {
        "id": "iJPhBChtnZ_2"
      },
      "source": [
        "5 % 2"
      ],
      "execution_count": null,
      "outputs": []
    },
    {
      "cell_type": "code",
      "metadata": {
        "colab": {
          "base_uri": "https://localhost:8080/"
        },
        "id": "OguOzwI_smzh",
        "outputId": "7d25fb6f-a436-4a14-8a7f-788230f750b5"
      },
      "source": [
        "# 이런것도 있다\r\n",
        "pow(3,4)"
      ],
      "execution_count": 23,
      "outputs": [
        {
          "output_type": "execute_result",
          "data": {
            "text/plain": [
              "81"
            ]
          },
          "metadata": {
            "tags": []
          },
          "execution_count": 23
        }
      ]
    },
    {
      "cell_type": "markdown",
      "metadata": {
        "id": "vOxOLw1bnove"
      },
      "source": [
        "### 문자열 연산"
      ]
    },
    {
      "cell_type": "code",
      "metadata": {
        "colab": {
          "base_uri": "https://localhost:8080/"
        },
        "id": "FvfOi_FEnvdx",
        "outputId": "0e8ff256-1daa-4005-b9e8-d9844d8e0645"
      },
      "source": [
        "print(\"*\"*1)\r\n",
        "print(\"*\"*2)\r\n",
        "print(\"*\"*3)\r\n",
        "print(\"*\"*4)\r\n",
        "print(\"*\"*5)\r\n",
        "print(\"*\"*6)"
      ],
      "execution_count": 6,
      "outputs": [
        {
          "output_type": "stream",
          "text": [
            "*\n",
            "**\n",
            "***\n",
            "****\n",
            "*****\n",
            "******\n"
          ],
          "name": "stdout"
        }
      ]
    },
    {
      "cell_type": "markdown",
      "metadata": {
        "id": "fqwSkISJoCkC"
      },
      "source": [
        "### 변수"
      ]
    },
    {
      "cell_type": "code",
      "metadata": {
        "colab": {
          "base_uri": "https://localhost:8080/"
        },
        "id": "2uOOW3mZoEot",
        "outputId": "c9f40f85-d8db-4b8b-9c42-7ce50e71ca3f"
      },
      "source": [
        "# 변수 이름은 나중에 내가 헷갈리지 않도록 && 다른 사람도 이해할 수 있도록 사용용도에 맞게 지정해주는 편이 나음\r\n",
        "count = 0\r\n",
        "count = count + 1\r\n",
        "count"
      ],
      "execution_count": 9,
      "outputs": [
        {
          "output_type": "execute_result",
          "data": {
            "text/plain": [
              "1"
            ]
          },
          "metadata": {
            "tags": []
          },
          "execution_count": 9
        }
      ]
    },
    {
      "cell_type": "code",
      "metadata": {
        "colab": {
          "base_uri": "https://localhost:8080/"
        },
        "id": "_rNW9K0EpCTW",
        "outputId": "0270fc49-fb9f-41f0-8775-5458328b42a8"
      },
      "source": [
        "count = 0\r\n",
        "count = 1\r\n",
        "count = count + 1\r\n",
        "count"
      ],
      "execution_count": 11,
      "outputs": [
        {
          "output_type": "execute_result",
          "data": {
            "text/plain": [
              "2"
            ]
          },
          "metadata": {
            "tags": []
          },
          "execution_count": 11
        }
      ]
    },
    {
      "cell_type": "code",
      "metadata": {
        "colab": {
          "base_uri": "https://localhost:8080/"
        },
        "id": "_fcYRQmYpIVe",
        "outputId": "8a6143e5-997f-4454-94a9-53a3adf8b1a4"
      },
      "source": [
        "_count = 0\r\n",
        "count = count + 1\r\n",
        "\r\n",
        "# 아 귀찮아!\r\n",
        "\r\n",
        "count = 0\r\n",
        "count += 1\r\n",
        "\r\n",
        "print(_count, count)"
      ],
      "execution_count": 13,
      "outputs": [
        {
          "output_type": "stream",
          "text": [
            "0 1\n"
          ],
          "name": "stdout"
        }
      ]
    },
    {
      "cell_type": "markdown",
      "metadata": {
        "id": "fnURA1hrpi8m"
      },
      "source": [
        "###**변수 이름**\r\n",
        "#### 문자와 숫자 _ 를 사용할 수 있음\r\n",
        "#### 대문자와 소문자를 구분함\r\n",
        "#### 공백은 사용할 수 없음\r\n",
        "#### 숫자로 시작할 수 없음\r\n",
        "#### 미리 예약된 이름은 사용할 수 없음"
      ]
    },
    {
      "cell_type": "code",
      "metadata": {
        "id": "n22lOCoErQoo"
      },
      "source": [
        "#### 문자와 숫자 _ 를 사용할 수 있음\r\n",
        "count = 0\r\n",
        "_count = 1"
      ],
      "execution_count": null,
      "outputs": []
    },
    {
      "cell_type": "code",
      "metadata": {
        "id": "QwI7sSxfrXBf"
      },
      "source": [
        "#### 대문자와 소문자를 구분함\r\n",
        "Count = 0\r\n",
        "count = 1\r\n",
        "print(Count, count)"
      ],
      "execution_count": null,
      "outputs": []
    },
    {
      "cell_type": "code",
      "metadata": {
        "colab": {
          "base_uri": "https://localhost:8080/",
          "height": 136
        },
        "id": "QbpeVwBtrcRA",
        "outputId": "f36f1322-94db-41ac-d488-d62e5ca9ff23"
      },
      "source": [
        "#### 공백은 사용할 수 없음\r\n",
        "c o u n t = 0\r\n",
        " count = 0"
      ],
      "execution_count": 16,
      "outputs": [
        {
          "output_type": "error",
          "ename": "IndentationError",
          "evalue": "ignored",
          "traceback": [
            "\u001b[0;36m  File \u001b[0;32m\"<ipython-input-16-9b4787a64059>\"\u001b[0;36m, line \u001b[0;32m3\u001b[0m\n\u001b[0;31m    count = 0\u001b[0m\n\u001b[0m    ^\u001b[0m\n\u001b[0;31mIndentationError\u001b[0m\u001b[0;31m:\u001b[0m unexpected indent\n"
          ]
        }
      ]
    },
    {
      "cell_type": "code",
      "metadata": {
        "colab": {
          "base_uri": "https://localhost:8080/",
          "height": 136
        },
        "id": "q5CyeBAeroF3",
        "outputId": "a934f8e9-dfd0-47c5-9527-331433e8c415"
      },
      "source": [
        "#### 숫자로 시작할 수 없음\r\n",
        "0Count = 0"
      ],
      "execution_count": 17,
      "outputs": [
        {
          "output_type": "error",
          "ename": "SyntaxError",
          "evalue": "ignored",
          "traceback": [
            "\u001b[0;36m  File \u001b[0;32m\"<ipython-input-17-e18cce2a63e6>\"\u001b[0;36m, line \u001b[0;32m2\u001b[0m\n\u001b[0;31m    0Count = 0\u001b[0m\n\u001b[0m         ^\u001b[0m\n\u001b[0;31mSyntaxError\u001b[0m\u001b[0;31m:\u001b[0m invalid syntax\n"
          ]
        }
      ]
    },
    {
      "cell_type": "code",
      "metadata": {
        "id": "23EtJcKjrshU"
      },
      "source": [
        "#### 미리 예약된 이름은 사용할 수 없음\r\n",
        "# 예약어 = 특정 기능을 수행하도록 미리 예약되어 있는 단어\r\n",
        "True = 1\r\n",
        "False = 0\r\n",
        "if = 1\r\n",
        "elif = 0\r\n"
      ],
      "execution_count": 25,
      "outputs": []
    },
    {
      "cell_type": "markdown",
      "metadata": {
        "id": "0AVvYIPms964"
      },
      "source": [
        "##깜짝 퀴즈"
      ]
    },
    {
      "cell_type": "markdown",
      "metadata": {
        "id": "R4XQs8XltYvw"
      },
      "source": [
        "뽀야미의 몸무게는 5kg\r\n",
        "문대의 몸무게는 10kg\r\n",
        "차둘이의 몸무게는 100kg\r\n",
        "\r\n",
        "뽀야미와 문대 차둘이의 몸무게를 각각 1, 2, 3 배한뒤 그 합을 출력해보자"
      ]
    },
    {
      "cell_type": "markdown",
      "metadata": {
        "id": "bOhc1gGcucH5"
      },
      "source": [
        "##너무나도 소중한 **List**"
      ]
    },
    {
      "cell_type": "code",
      "metadata": {
        "colab": {
          "base_uri": "https://localhost:8080/"
        },
        "id": "-lCD2GC7usRg",
        "outputId": "69e5acd3-5166-4a8c-8d66-0d45c99dbd7c"
      },
      "source": [
        "my_list = []\r\n",
        "my_list"
      ],
      "execution_count": 27,
      "outputs": [
        {
          "output_type": "execute_result",
          "data": {
            "text/plain": [
              "[]"
            ]
          },
          "metadata": {
            "tags": []
          },
          "execution_count": 27
        }
      ]
    },
    {
      "cell_type": "code",
      "metadata": {
        "colab": {
          "base_uri": "https://localhost:8080/"
        },
        "id": "iD8WVnpzuvoP",
        "outputId": "292ad54a-b044-4001-9814-dc814b42e4bc"
      },
      "source": [
        "my_list2 = [1, -2, \"hi\"]\r\n",
        "my_list2"
      ],
      "execution_count": 28,
      "outputs": [
        {
          "output_type": "execute_result",
          "data": {
            "text/plain": [
              "[1, -2, 3.14]"
            ]
          },
          "metadata": {
            "tags": []
          },
          "execution_count": 28
        }
      ]
    },
    {
      "cell_type": "markdown",
      "metadata": {
        "id": "Cvl7airYu2ni"
      },
      "source": [
        "### 값에 접근"
      ]
    },
    {
      "cell_type": "code",
      "metadata": {
        "colab": {
          "base_uri": "https://localhost:8080/"
        },
        "id": "txr9dwk_u5QY",
        "outputId": "884fa2d2-423b-4829-81d6-c4f724e9a50e"
      },
      "source": [
        "my_list2[0]"
      ],
      "execution_count": 30,
      "outputs": [
        {
          "output_type": "execute_result",
          "data": {
            "text/plain": [
              "1"
            ]
          },
          "metadata": {
            "tags": []
          },
          "execution_count": 30
        }
      ]
    },
    {
      "cell_type": "code",
      "metadata": {
        "colab": {
          "base_uri": "https://localhost:8080/"
        },
        "id": "kqviv_epvBp4",
        "outputId": "d8ce772a-8ed1-4a05-97c3-dfc76ffe2fd7"
      },
      "source": [
        "my_list2[1]"
      ],
      "execution_count": 31,
      "outputs": [
        {
          "output_type": "execute_result",
          "data": {
            "text/plain": [
              "-2"
            ]
          },
          "metadata": {
            "tags": []
          },
          "execution_count": 31
        }
      ]
    },
    {
      "cell_type": "code",
      "metadata": {
        "colab": {
          "base_uri": "https://localhost:8080/"
        },
        "id": "MesOnDuevEHA",
        "outputId": "bf1e0df7-7037-4e3f-b6c0-de8ae81372bf"
      },
      "source": [
        "my_list2[2]"
      ],
      "execution_count": 33,
      "outputs": [
        {
          "output_type": "execute_result",
          "data": {
            "text/plain": [
              "3.14"
            ]
          },
          "metadata": {
            "tags": []
          },
          "execution_count": 33
        }
      ]
    },
    {
      "cell_type": "code",
      "metadata": {
        "colab": {
          "base_uri": "https://localhost:8080/",
          "height": 172
        },
        "id": "zX6qJXtVvJwK",
        "outputId": "4b4914fc-976c-4b17-d1ff-26b288eb23df"
      },
      "source": [
        "my_list[0]"
      ],
      "execution_count": 34,
      "outputs": [
        {
          "output_type": "error",
          "ename": "IndexError",
          "evalue": "ignored",
          "traceback": [
            "\u001b[0;31m---------------------------------------------------------------------------\u001b[0m",
            "\u001b[0;31mIndexError\u001b[0m                                Traceback (most recent call last)",
            "\u001b[0;32m<ipython-input-34-12179507dd42>\u001b[0m in \u001b[0;36m<module>\u001b[0;34m()\u001b[0m\n\u001b[0;32m----> 1\u001b[0;31m \u001b[0mmy_list\u001b[0m\u001b[0;34m[\u001b[0m\u001b[0;36m0\u001b[0m\u001b[0;34m]\u001b[0m\u001b[0;34m\u001b[0m\u001b[0;34m\u001b[0m\u001b[0m\n\u001b[0m",
            "\u001b[0;31mIndexError\u001b[0m: list index out of range"
          ]
        }
      ]
    },
    {
      "cell_type": "markdown",
      "metadata": {
        "id": "WW97udvfwMvs"
      },
      "source": [
        "###값 제거하기"
      ]
    },
    {
      "cell_type": "code",
      "metadata": {
        "colab": {
          "base_uri": "https://localhost:8080/"
        },
        "id": "OBK7v_Smwm4c",
        "outputId": "552cb23a-b7ac-4841-f5fa-8bcca6c326d9"
      },
      "source": [
        "strange_list = [1, 2, 3, \"hi\"]\r\n",
        "# del 키워드를 통한 삭제\r\n",
        "del strange_list[3]\r\n",
        "print(strange_list)"
      ],
      "execution_count": 3,
      "outputs": [
        {
          "output_type": "stream",
          "text": [
            "[1, 2, 3]\n",
            "0\n"
          ],
          "name": "stdout"
        }
      ]
    },
    {
      "cell_type": "code",
      "metadata": {
        "colab": {
          "base_uri": "https://localhost:8080/"
        },
        "id": "8h_djB-WySXZ",
        "outputId": "2691280c-485b-4f68-c7ab-21c7ca5bd31d"
      },
      "source": [
        "strange_list = [1, 2, 3, \"hi\"]\r\n",
        "# remove 메소드에 의한 삭제\r\n",
        "# remove(찾을 아이템)\r\n",
        "strange_list.remove(1)\r\n",
        "strange_list"
      ],
      "execution_count": 4,
      "outputs": [
        {
          "output_type": "execute_result",
          "data": {
            "text/plain": [
              "[2, 3, 'hi']"
            ]
          },
          "metadata": {
            "tags": []
          },
          "execution_count": 4
        }
      ]
    },
    {
      "cell_type": "code",
      "metadata": {
        "colab": {
          "base_uri": "https://localhost:8080/"
        },
        "id": "OhyVjfzOyp-r",
        "outputId": "37d8e83d-bc91-47e9-8627-d55c15e4663f"
      },
      "source": [
        "strange_list = [1, 2, 3, \"hi\"]\r\n",
        "# 아이템을 찾는 방법\r\n",
        "#list.index(찾을 아이템) -> return 아이템의 위치\r\n",
        "print(strange_list.index(1))\r\n",
        "print(strange_list.index(2))\r\n",
        "print(strange_list.index(3))"
      ],
      "execution_count": 6,
      "outputs": [
        {
          "output_type": "stream",
          "text": [
            "0\n",
            "1\n",
            "2\n"
          ],
          "name": "stdout"
        }
      ]
    },
    {
      "cell_type": "markdown",
      "metadata": {
        "id": "FVS6gzG8kYR2"
      },
      "source": [
        "###자료형"
      ]
    },
    {
      "cell_type": "code",
      "metadata": {
        "colab": {
          "base_uri": "https://localhost:8080/"
        },
        "id": "vqi_Zm1vkiJ9",
        "outputId": "40a0e761-fa82-40ad-831b-979c0e6d8127"
      },
      "source": [
        "print(type('A'))\r\n",
        "print(type(6))\r\n",
        "print(type(2.8))\r\n",
        "print(type(3+4j))\r\n",
        "print(type([1, 2, 3, 4]))\r\n",
        "print(type((1, 2, 3, 4)))\r\n",
        "print(type(print))"
      ],
      "execution_count": 4,
      "outputs": [
        {
          "output_type": "stream",
          "text": [
            "<class 'str'>\n",
            "<class 'int'>\n",
            "<class 'float'>\n",
            "<class 'complex'>\n",
            "<class 'list'>\n",
            "<class 'tuple'>\n",
            "<class 'builtin_function_or_method'>\n"
          ],
          "name": "stdout"
        }
      ]
    },
    {
      "cell_type": "code",
      "metadata": {
        "id": "1LORRUEKmpIj"
      },
      "source": [
        ""
      ],
      "execution_count": null,
      "outputs": []
    }
  ]
}