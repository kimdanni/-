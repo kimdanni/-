{
  "nbformat": 4,
  "nbformat_minor": 0,
  "metadata": {
    "colab": {
      "name": "[실습]Ch06.numpy - 04~06.index.ipynb",
      "provenance": [],
      "collapsed_sections": [],
      "include_colab_link": true
    },
    "kernelspec": {
      "name": "python3",
      "display_name": "Python 3"
    }
  },
  "cells": [
    {
      "cell_type": "markdown",
      "metadata": {
        "id": "view-in-github",
        "colab_type": "text"
      },
      "source": [
        "<a href=\"https://colab.research.google.com/github/kimdanni/python/blob/circleci-project-setup/numpy2.ipynb\" target=\"_parent\"><img src=\"https://colab.research.google.com/assets/colab-badge.svg\" alt=\"Open In Colab\"/></a>"
      ]
    },
    {
      "cell_type": "code",
      "metadata": {
        "id": "vRbhAqrPPUSJ",
        "colab_type": "code",
        "colab": {}
      },
      "source": [
        "import numpy as np"
      ],
      "execution_count": 1,
      "outputs": []
    },
    {
      "cell_type": "markdown",
      "metadata": {
        "id": "5udnDdRaPwEO",
        "colab_type": "text"
      },
      "source": [
        "## 1. 슬라이싱 (Slicing)"
      ]
    },
    {
      "cell_type": "markdown",
      "metadata": {
        "id": "OsFvaJktP0b_",
        "colab_type": "text"
      },
      "source": [
        "배열의 부분 선택 (과일을 슬라이스해서 부분만 먹듯..)"
      ]
    },
    {
      "cell_type": "code",
      "metadata": {
        "id": "6keEerG8P_S5",
        "colab_type": "code",
        "colab": {}
      },
      "source": [
        "arr = np.array([0, 1, 2, 3, 4, 5, 6, 7, 8, 9])"
      ],
      "execution_count": 2,
      "outputs": []
    },
    {
      "cell_type": "code",
      "metadata": {
        "id": "h4hJvNn9QFNt",
        "colab_type": "code",
        "colab": {
          "base_uri": "https://localhost:8080/",
          "height": 34
        },
        "outputId": "7dfaeb5c-f659-4d96-919c-9595dbb87c29"
      },
      "source": [
        "arr.shape"
      ],
      "execution_count": 3,
      "outputs": [
        {
          "output_type": "execute_result",
          "data": {
            "text/plain": [
              "(10,)"
            ]
          },
          "metadata": {
            "tags": []
          },
          "execution_count": 3
        }
      ]
    },
    {
      "cell_type": "markdown",
      "metadata": {
        "id": "Srgo4QWxQXZN",
        "colab_type": "text"
      },
      "source": [
        "### 1-1. index 지정하여 색인"
      ]
    },
    {
      "cell_type": "markdown",
      "metadata": {
        "id": "G9hLG9ZZRn3P",
        "colab_type": "text"
      },
      "source": [
        "#### 1차원 array"
      ]
    },
    {
      "cell_type": "code",
      "metadata": {
        "id": "9vqX0uhOSKSp",
        "colab_type": "code",
        "colab": {}
      },
      "source": [
        "arr = np.array([0, 1, 2, 3, 4, 5, 6, 7, 8, 9])"
      ],
      "execution_count": 4,
      "outputs": []
    },
    {
      "cell_type": "code",
      "metadata": {
        "id": "cXZG1g94QV_i",
        "colab_type": "code",
        "colab": {
          "base_uri": "https://localhost:8080/",
          "height": 34
        },
        "outputId": "1646519b-2a69-4621-94be-2f5deb2c606a"
      },
      "source": [
        "arr[0]"
      ],
      "execution_count": 5,
      "outputs": [
        {
          "output_type": "execute_result",
          "data": {
            "text/plain": [
              "0"
            ]
          },
          "metadata": {
            "tags": []
          },
          "execution_count": 5
        }
      ]
    },
    {
      "cell_type": "code",
      "metadata": {
        "id": "5posuZniQVks",
        "colab_type": "code",
        "colab": {
          "base_uri": "https://localhost:8080/",
          "height": 34
        },
        "outputId": "b3e13a23-7ba6-4c19-f704-f18dd594b23c"
      },
      "source": [
        "arr[5]"
      ],
      "execution_count": 6,
      "outputs": [
        {
          "output_type": "execute_result",
          "data": {
            "text/plain": [
              "5"
            ]
          },
          "metadata": {
            "tags": []
          },
          "execution_count": 6
        }
      ]
    },
    {
      "cell_type": "code",
      "metadata": {
        "id": "8P2cdAGJQf0u",
        "colab_type": "code",
        "colab": {
          "base_uri": "https://localhost:8080/",
          "height": 168
        },
        "outputId": "a8c1406c-11ce-448c-815e-26a1d478fc24"
      },
      "source": [
        "arr[10]"
      ],
      "execution_count": 7,
      "outputs": [
        {
          "output_type": "error",
          "ename": "IndexError",
          "evalue": "ignored",
          "traceback": [
            "\u001b[0;31m---------------------------------------------------------------------------\u001b[0m",
            "\u001b[0;31mIndexError\u001b[0m                                Traceback (most recent call last)",
            "\u001b[0;32m<ipython-input-7-ff656e92d79c>\u001b[0m in \u001b[0;36m<module>\u001b[0;34m()\u001b[0m\n\u001b[0;32m----> 1\u001b[0;31m \u001b[0marr\u001b[0m\u001b[0;34m[\u001b[0m\u001b[0;36m10\u001b[0m\u001b[0;34m]\u001b[0m\u001b[0;34m\u001b[0m\u001b[0;34m\u001b[0m\u001b[0m\n\u001b[0m",
            "\u001b[0;31mIndexError\u001b[0m: index 10 is out of bounds for axis 0 with size 10"
          ]
        }
      ]
    },
    {
      "cell_type": "code",
      "metadata": {
        "id": "rKKihrqcQhMR",
        "colab_type": "code",
        "colab": {
          "base_uri": "https://localhost:8080/",
          "height": 34
        },
        "outputId": "c0544d7f-88dc-4353-d024-d98e932d7f50"
      },
      "source": [
        "arr[-1]"
      ],
      "execution_count": 8,
      "outputs": [
        {
          "output_type": "execute_result",
          "data": {
            "text/plain": [
              "9"
            ]
          },
          "metadata": {
            "tags": []
          },
          "execution_count": 8
        }
      ]
    },
    {
      "cell_type": "code",
      "metadata": {
        "id": "4Ly74kYZQkQg",
        "colab_type": "code",
        "colab": {
          "base_uri": "https://localhost:8080/",
          "height": 34
        },
        "outputId": "9540f74d-9aee-402e-8aa0-2bfcded8c058"
      },
      "source": [
        "arr[-10]"
      ],
      "execution_count": 9,
      "outputs": [
        {
          "output_type": "execute_result",
          "data": {
            "text/plain": [
              "0"
            ]
          },
          "metadata": {
            "tags": []
          },
          "execution_count": 9
        }
      ]
    },
    {
      "cell_type": "code",
      "metadata": {
        "id": "nF-KS39MQp_y",
        "colab_type": "code",
        "colab": {
          "base_uri": "https://localhost:8080/",
          "height": 168
        },
        "outputId": "d120cd51-d131-4774-cdde-a5fdef9cdcac"
      },
      "source": [
        "arr[-11]"
      ],
      "execution_count": 10,
      "outputs": [
        {
          "output_type": "error",
          "ename": "IndexError",
          "evalue": "ignored",
          "traceback": [
            "\u001b[0;31m---------------------------------------------------------------------------\u001b[0m",
            "\u001b[0;31mIndexError\u001b[0m                                Traceback (most recent call last)",
            "\u001b[0;32m<ipython-input-10-91f133f07612>\u001b[0m in \u001b[0;36m<module>\u001b[0;34m()\u001b[0m\n\u001b[0;32m----> 1\u001b[0;31m \u001b[0marr\u001b[0m\u001b[0;34m[\u001b[0m\u001b[0;34m-\u001b[0m\u001b[0;36m11\u001b[0m\u001b[0;34m]\u001b[0m\u001b[0;34m\u001b[0m\u001b[0;34m\u001b[0m\u001b[0m\n\u001b[0m",
            "\u001b[0;31mIndexError\u001b[0m: index -11 is out of bounds for axis 0 with size 10"
          ]
        }
      ]
    },
    {
      "cell_type": "markdown",
      "metadata": {
        "id": "wl0C7KPNRrAI",
        "colab_type": "text"
      },
      "source": [
        "#### 2차원 array"
      ]
    },
    {
      "cell_type": "code",
      "metadata": {
        "id": "HsiBC5kxRs6y",
        "colab_type": "code",
        "colab": {}
      },
      "source": [
        "arr2d = np.array([[1, 2, 3, 4], \n",
        "                  [5, 6, 7, 8], \n",
        "                  [9, 10, 11, 12]])"
      ],
      "execution_count": 11,
      "outputs": []
    },
    {
      "cell_type": "code",
      "metadata": {
        "id": "fuJ8ZLpLRsx_",
        "colab_type": "code",
        "colab": {
          "base_uri": "https://localhost:8080/",
          "height": 34
        },
        "outputId": "3f1ae1ec-5740-4b9f-c5d3-cec76891aeab"
      },
      "source": [
        "arr2d.shape"
      ],
      "execution_count": 12,
      "outputs": [
        {
          "output_type": "execute_result",
          "data": {
            "text/plain": [
              "(3, 4)"
            ]
          },
          "metadata": {
            "tags": []
          },
          "execution_count": 12
        }
      ]
    },
    {
      "cell_type": "markdown",
      "metadata": {
        "id": "YfTsIia7RzrQ",
        "colab_type": "text"
      },
      "source": [
        "arr2d[행, 열]"
      ]
    },
    {
      "cell_type": "code",
      "metadata": {
        "id": "zO9fguiHRyCR",
        "colab_type": "code",
        "colab": {
          "base_uri": "https://localhost:8080/",
          "height": 34
        },
        "outputId": "57c83bc8-3958-4554-c22c-28792c318521"
      },
      "source": [
        "arr2d[0,2]\n"
      ],
      "execution_count": 13,
      "outputs": [
        {
          "output_type": "execute_result",
          "data": {
            "text/plain": [
              "3"
            ]
          },
          "metadata": {
            "tags": []
          },
          "execution_count": 13
        }
      ]
    },
    {
      "cell_type": "code",
      "metadata": {
        "id": "qbo4YbpsRxyO",
        "colab_type": "code",
        "colab": {
          "base_uri": "https://localhost:8080/",
          "height": 34
        },
        "outputId": "13e562b4-4675-458a-d9fd-096bc9d994c2"
      },
      "source": [
        "arr2d[2,1]    "
      ],
      "execution_count": 14,
      "outputs": [
        {
          "output_type": "execute_result",
          "data": {
            "text/plain": [
              "10"
            ]
          },
          "metadata": {
            "tags": []
          },
          "execution_count": 14
        }
      ]
    },
    {
      "cell_type": "markdown",
      "metadata": {
        "id": "A9JfdvmOQshs",
        "colab_type": "text"
      },
      "source": [
        "### 1-2. 범위 색인"
      ]
    },
    {
      "cell_type": "markdown",
      "metadata": {
        "id": "HofWSyh-SCgA",
        "colab_type": "text"
      },
      "source": [
        "#### 1차원"
      ]
    },
    {
      "cell_type": "markdown",
      "metadata": {
        "id": "6EGyB84QQw8j",
        "colab_type": "text"
      },
      "source": [
        "index 1**이상** 끝까지"
      ]
    },
    {
      "cell_type": "code",
      "metadata": {
        "id": "Yp9guIXUk45v",
        "colab_type": "code",
        "colab": {
          "base_uri": "https://localhost:8080/",
          "height": 34
        },
        "outputId": "4d9c82cf-b4bd-48b1-cf0c-edb9131583f4"
      },
      "source": [
        "arr"
      ],
      "execution_count": null,
      "outputs": [
        {
          "output_type": "execute_result",
          "data": {
            "text/plain": [
              "array([0, 1, 2, 3, 4, 5, 6, 7, 8, 9])"
            ]
          },
          "metadata": {
            "tags": []
          },
          "execution_count": 16
        }
      ]
    },
    {
      "cell_type": "code",
      "metadata": {
        "id": "ooPQcNovQvS-",
        "colab_type": "code",
        "colab": {
          "base_uri": "https://localhost:8080/",
          "height": 34
        },
        "outputId": "f079ff2d-5223-4a5c-858f-fd16c01c2fe2"
      },
      "source": [
        "arr[1:]\n"
      ],
      "execution_count": 15,
      "outputs": [
        {
          "output_type": "execute_result",
          "data": {
            "text/plain": [
              "array([1, 2, 3, 4, 5, 6, 7, 8, 9])"
            ]
          },
          "metadata": {
            "tags": []
          },
          "execution_count": 15
        }
      ]
    },
    {
      "cell_type": "markdown",
      "metadata": {
        "id": "oK-Q2U4kQz2w",
        "colab_type": "text"
      },
      "source": [
        "index 5 **미만** 까지"
      ]
    },
    {
      "cell_type": "code",
      "metadata": {
        "id": "XFqkQSkKRIl_",
        "colab_type": "code",
        "colab": {
          "base_uri": "https://localhost:8080/",
          "height": 34
        },
        "outputId": "8b66cf06-65fa-406b-8545-0d2bbefb0059"
      },
      "source": [
        "arr[:5]\n"
      ],
      "execution_count": 16,
      "outputs": [
        {
          "output_type": "execute_result",
          "data": {
            "text/plain": [
              "array([0, 1, 2, 3, 4])"
            ]
          },
          "metadata": {
            "tags": []
          },
          "execution_count": 16
        }
      ]
    },
    {
      "cell_type": "markdown",
      "metadata": {
        "id": "qZbdF9riRIh5",
        "colab_type": "text"
      },
      "source": [
        "index 1이상 5미만"
      ]
    },
    {
      "cell_type": "code",
      "metadata": {
        "id": "0txKbZfGRIdD",
        "colab_type": "code",
        "colab": {
          "base_uri": "https://localhost:8080/",
          "height": 34
        },
        "outputId": "29d0b15b-934f-4d24-da86-3883e7fd0aed"
      },
      "source": [
        "arr[1:5]\n"
      ],
      "execution_count": 17,
      "outputs": [
        {
          "output_type": "execute_result",
          "data": {
            "text/plain": [
              "array([1, 2, 3, 4])"
            ]
          },
          "metadata": {
            "tags": []
          },
          "execution_count": 17
        }
      ]
    },
    {
      "cell_type": "markdown",
      "metadata": {
        "id": "I6JtSZjoSEn4",
        "colab_type": "text"
      },
      "source": [
        "#### 2차원"
      ]
    },
    {
      "cell_type": "code",
      "metadata": {
        "id": "9lf5XlZSSGOO",
        "colab_type": "code",
        "colab": {}
      },
      "source": [
        "arr2d = np.array([[1, 2, 3, 4], \n",
        "                  [5, 6, 7, 8], \n",
        "                  [9, 10, 11, 12]])"
      ],
      "execution_count": 18,
      "outputs": []
    },
    {
      "cell_type": "markdown",
      "metadata": {
        "id": "HR_JODwpSWKq",
        "colab_type": "text"
      },
      "source": [
        "row(행)을 모두 가져오려는 경우"
      ]
    },
    {
      "cell_type": "code",
      "metadata": {
        "id": "iXoayqA8SMFc",
        "colab_type": "code",
        "colab": {
          "base_uri": "https://localhost:8080/",
          "height": 34
        },
        "outputId": "ba08e63c-6b33-4396-f505-fb3ff533a441"
      },
      "source": [
        "arr2d[0, :]\n"
      ],
      "execution_count": 19,
      "outputs": [
        {
          "output_type": "execute_result",
          "data": {
            "text/plain": [
              "array([1, 2, 3, 4])"
            ]
          },
          "metadata": {
            "tags": []
          },
          "execution_count": 19
        }
      ]
    },
    {
      "cell_type": "markdown",
      "metadata": {
        "id": "0CjCWzNhSZjq",
        "colab_type": "text"
      },
      "source": [
        "column(열)을 모두 가져오려는 경우"
      ]
    },
    {
      "cell_type": "code",
      "metadata": {
        "id": "2I_If7CjSS7O",
        "colab_type": "code",
        "colab": {
          "base_uri": "https://localhost:8080/",
          "height": 34
        },
        "outputId": "b10e0f61-9748-444a-b7d2-de3ef572c7c8"
      },
      "source": [
        "arr2d[:, 0]\n"
      ],
      "execution_count": 20,
      "outputs": [
        {
          "output_type": "execute_result",
          "data": {
            "text/plain": [
              "array([1, 5, 9])"
            ]
          },
          "metadata": {
            "tags": []
          },
          "execution_count": 20
        }
      ]
    },
    {
      "cell_type": "markdown",
      "metadata": {
        "id": "p4s8f42xSL94",
        "colab_type": "text"
      },
      "source": [
        "부분 적으로 가져오려는 경우"
      ]
    },
    {
      "cell_type": "code",
      "metadata": {
        "id": "SEE-HpBTSfv5",
        "colab_type": "code",
        "colab": {
          "base_uri": "https://localhost:8080/",
          "height": 52
        },
        "outputId": "7d7c112d-72c4-4213-d85b-2d49c0a71692"
      },
      "source": [
        "arr2d[:2, :]\n"
      ],
      "execution_count": 23,
      "outputs": [
        {
          "output_type": "execute_result",
          "data": {
            "text/plain": [
              "array([[1, 2, 3, 4],\n",
              "       [5, 6, 7, 8]])"
            ]
          },
          "metadata": {
            "tags": []
          },
          "execution_count": 23
        }
      ]
    },
    {
      "cell_type": "code",
      "metadata": {
        "id": "5D7d5ozKSiXv",
        "colab_type": "code",
        "colab": {
          "base_uri": "https://localhost:8080/",
          "height": 52
        },
        "outputId": "525b161a-3d85-425f-8948-2effa0bc6d12"
      },
      "source": [
        "arr2d[:2,2:]"
      ],
      "execution_count": 24,
      "outputs": [
        {
          "output_type": "execute_result",
          "data": {
            "text/plain": [
              "array([[3, 4],\n",
              "       [7, 8]])"
            ]
          },
          "metadata": {
            "tags": []
          },
          "execution_count": 24
        }
      ]
    },
    {
      "cell_type": "markdown",
      "metadata": {
        "id": "6wEBe7tbULky",
        "colab_type": "text"
      },
      "source": [
        "## 2. Fancy 인덱싱"
      ]
    },
    {
      "cell_type": "markdown",
      "metadata": {
        "id": "ryx7onUgU7VT",
        "colab_type": "text"
      },
      "source": [
        "fancy 인덱싱은 범위가 아닌 **특정 index의 집합의 값을 선택하여 추출**하고 싶을 때 활용합니다."
      ]
    },
    {
      "cell_type": "code",
      "metadata": {
        "id": "H-eFtxCRULUn",
        "colab_type": "code",
        "colab": {}
      },
      "source": [
        "arr = np.array([10, 23, 2, 7, 90, 65, 32, 66, 70])"
      ],
      "execution_count": 25,
      "outputs": []
    },
    {
      "cell_type": "markdown",
      "metadata": {
        "id": "eUV5porzU5FP",
        "colab_type": "text"
      },
      "source": [
        "반드시 **[추출하고 싶은 인덱스]** 꺾쇠 괄호로 묶어 주세요"
      ]
    },
    {
      "cell_type": "markdown",
      "metadata": {
        "id": "4nYgmmgDU4eu",
        "colab_type": "text"
      },
      "source": [
        "변수에 지정 후 추출도 가능합니다."
      ]
    },
    {
      "cell_type": "code",
      "metadata": {
        "id": "6kGTuv20ULEk",
        "colab_type": "code",
        "colab": {}
      },
      "source": [
        "idx = [1, 3, 5]"
      ],
      "execution_count": 26,
      "outputs": []
    },
    {
      "cell_type": "code",
      "metadata": {
        "id": "3RBEcwtDU2Dk",
        "colab_type": "code",
        "colab": {
          "base_uri": "https://localhost:8080/",
          "height": 34
        },
        "outputId": "467b9a57-f4fd-4ecd-802e-95577c137170"
      },
      "source": [
        "arr[idx]"
      ],
      "execution_count": 27,
      "outputs": [
        {
          "output_type": "execute_result",
          "data": {
            "text/plain": [
              "array([23,  7, 65])"
            ]
          },
          "metadata": {
            "tags": []
          },
          "execution_count": 27
        }
      ]
    },
    {
      "cell_type": "markdown",
      "metadata": {
        "id": "hx83f87VVX3r",
        "colab_type": "text"
      },
      "source": [
        "### 2-2. 2차원 array"
      ]
    },
    {
      "cell_type": "code",
      "metadata": {
        "id": "fxCICJpcVYC_",
        "colab_type": "code",
        "colab": {}
      },
      "source": [
        "arr2d = np.array([[1, 2, 3, 4], \n",
        "                  [5, 6, 7, 8], \n",
        "                  [9, 10, 11, 12]])"
      ],
      "execution_count": 28,
      "outputs": []
    },
    {
      "cell_type": "code",
      "metadata": {
        "id": "hDmBdvm1V6qF",
        "colab_type": "code",
        "colab": {
          "base_uri": "https://localhost:8080/",
          "height": 52
        },
        "outputId": "2b02de56-298a-427d-e4be-0c0d4ad0f1a1"
      },
      "source": [
        "arr2d[[0,1], :]"
      ],
      "execution_count": 29,
      "outputs": [
        {
          "output_type": "execute_result",
          "data": {
            "text/plain": [
              "array([[1, 2, 3, 4],\n",
              "       [5, 6, 7, 8]])"
            ]
          },
          "metadata": {
            "tags": []
          },
          "execution_count": 29
        }
      ]
    },
    {
      "cell_type": "code",
      "metadata": {
        "id": "AIqPAa6sVyp7",
        "colab_type": "code",
        "colab": {
          "base_uri": "https://localhost:8080/",
          "height": 69
        },
        "outputId": "ee7f765c-ac8e-4c06-ea20-59d39634d490"
      },
      "source": [
        "arr2d[:,[1,2,3]]"
      ],
      "execution_count": 30,
      "outputs": [
        {
          "output_type": "execute_result",
          "data": {
            "text/plain": [
              "array([[ 2,  3,  4],\n",
              "       [ 6,  7,  8],\n",
              "       [10, 11, 12]])"
            ]
          },
          "metadata": {
            "tags": []
          },
          "execution_count": 30
        }
      ]
    },
    {
      "cell_type": "markdown",
      "metadata": {
        "id": "0jT1D1U9RIKy",
        "colab_type": "text"
      },
      "source": [
        "## 3. Boolean 인덱싱"
      ]
    },
    {
      "cell_type": "markdown",
      "metadata": {
        "id": "L65N9DO0Rg-c",
        "colab_type": "text"
      },
      "source": [
        "조건 필터링을 통하여 Boolean 값을 이용한 색인 (말이 어렵다..)"
      ]
    },
    {
      "cell_type": "code",
      "metadata": {
        "id": "ThYLT1u3E_Q_",
        "colab_type": "code",
        "colab": {}
      },
      "source": [
        "arr = np.array([1, 2, 3, 4, 5, 6, 7])"
      ],
      "execution_count": 31,
      "outputs": []
    },
    {
      "cell_type": "code",
      "metadata": {
        "id": "CwIVSLtaQOGq",
        "colab_type": "code",
        "colab": {}
      },
      "source": [
        "arr2d = np.array([[1, 2, 3, 4], \n",
        "                  [5, 6, 7, 8], \n",
        "                  [9, 10, 11, 12]])"
      ],
      "execution_count": 32,
      "outputs": []
    },
    {
      "cell_type": "markdown",
      "metadata": {
        "id": "9h4s_JOFEzqB",
        "colab_type": "text"
      },
      "source": [
        "### 3-1. True와 False 값으로 색인하기"
      ]
    },
    {
      "cell_type": "code",
      "metadata": {
        "id": "eyK_PJjJE4xf",
        "colab_type": "code",
        "colab": {}
      },
      "source": [
        "myTrueFalse = [True, False, True]"
      ],
      "execution_count": 33,
      "outputs": []
    },
    {
      "cell_type": "code",
      "metadata": {
        "id": "caCBOFDXFFM2",
        "colab_type": "code",
        "colab": {
          "base_uri": "https://localhost:8080/",
          "height": 168
        },
        "outputId": "469cccb6-db69-4ce8-892e-3812ff3af43f"
      },
      "source": [
        "arr[myTrueFalse]"
      ],
      "execution_count": 34,
      "outputs": [
        {
          "output_type": "error",
          "ename": "IndexError",
          "evalue": "ignored",
          "traceback": [
            "\u001b[0;31m---------------------------------------------------------------------------\u001b[0m",
            "\u001b[0;31mIndexError\u001b[0m                                Traceback (most recent call last)",
            "\u001b[0;32m<ipython-input-34-9c52b39d81ae>\u001b[0m in \u001b[0;36m<module>\u001b[0;34m()\u001b[0m\n\u001b[0;32m----> 1\u001b[0;31m \u001b[0marr\u001b[0m\u001b[0;34m[\u001b[0m\u001b[0mmyTrueFalse\u001b[0m\u001b[0;34m]\u001b[0m\u001b[0;34m\u001b[0m\u001b[0;34m\u001b[0m\u001b[0m\n\u001b[0m",
            "\u001b[0;31mIndexError\u001b[0m: boolean index did not match indexed array along dimension 0; dimension is 7 but corresponding boolean dimension is 3"
          ]
        }
      ]
    },
    {
      "cell_type": "code",
      "metadata": {
        "id": "tGSkFFUXFHF2",
        "colab_type": "code",
        "colab": {}
      },
      "source": [
        "myTrueFalse = [True, False, True, False, True, False, True]\n"
      ],
      "execution_count": 35,
      "outputs": []
    },
    {
      "cell_type": "code",
      "metadata": {
        "id": "QuYWbMLlFMK6",
        "colab_type": "code",
        "colab": {
          "base_uri": "https://localhost:8080/",
          "height": 34
        },
        "outputId": "f992db56-83be-4568-997d-20b27a7c3b97"
      },
      "source": [
        "arr[myTrueFalse]"
      ],
      "execution_count": 36,
      "outputs": [
        {
          "output_type": "execute_result",
          "data": {
            "text/plain": [
              "array([1, 3, 5, 7])"
            ]
          },
          "metadata": {
            "tags": []
          },
          "execution_count": 36
        }
      ]
    },
    {
      "cell_type": "markdown",
      "metadata": {
        "id": "EDeEZJtLS6NB",
        "colab_type": "text"
      },
      "source": [
        "### 3-2. 조건필터"
      ]
    },
    {
      "cell_type": "markdown",
      "metadata": {
        "id": "X5XV9DqwTC8F",
        "colab_type": "text"
      },
      "source": [
        "조건 연산자를 활용하여 필터를 생성할 수 있습니다"
      ]
    },
    {
      "cell_type": "code",
      "metadata": {
        "id": "oHIkQsBmSxTv",
        "colab_type": "code",
        "colab": {
          "base_uri": "https://localhost:8080/",
          "height": 69
        },
        "outputId": "b1a4149f-1b33-49dc-f478-b9c228b4258c"
      },
      "source": [
        "arr2d > 2"
      ],
      "execution_count": 37,
      "outputs": [
        {
          "output_type": "execute_result",
          "data": {
            "text/plain": [
              "array([[False, False,  True,  True],\n",
              "       [ True,  True,  True,  True],\n",
              "       [ True,  True,  True,  True]])"
            ]
          },
          "metadata": {
            "tags": []
          },
          "execution_count": 37
        }
      ]
    },
    {
      "cell_type": "markdown",
      "metadata": {
        "id": "viTCv7dmS22G",
        "colab_type": "text"
      },
      "source": [
        "필터를 활용하여 필터에 True 조건만 색인 합니다."
      ]
    },
    {
      "cell_type": "markdown",
      "metadata": {
        "id": "MH_2u6F5TPZP",
        "colab_type": "text"
      },
      "source": [
        "이럴 때 꺾쇠 괄호로 한 번 더 묶어만 주면 됩니다. (꺾쇠 괄호 안에 조건문 삽입) \n",
        "\n",
        "arr2d[**조건필터**]"
      ]
    },
    {
      "cell_type": "code",
      "metadata": {
        "id": "y0EAI6j5neQf",
        "colab_type": "code",
        "colab": {}
      },
      "source": [
        "arr2d = np.array([[1, 2, 3, 4], \n",
        "                  [5, 6, 7, 8], \n",
        "                  [9, 10, 11, 12]])"
      ],
      "execution_count": 38,
      "outputs": []
    },
    {
      "cell_type": "code",
      "metadata": {
        "id": "BfsZ4aNUTAxI",
        "colab_type": "code",
        "colab": {
          "base_uri": "https://localhost:8080/",
          "height": 34
        },
        "outputId": "717e1eb9-a9f5-4ef0-b374-d54fcc1ca71a"
      },
      "source": [
        "arr2d[ arr2d > 2]"
      ],
      "execution_count": 39,
      "outputs": [
        {
          "output_type": "execute_result",
          "data": {
            "text/plain": [
              "array([ 3,  4,  5,  6,  7,  8,  9, 10, 11, 12])"
            ]
          },
          "metadata": {
            "tags": []
          },
          "execution_count": 39
        }
      ]
    },
    {
      "cell_type": "code",
      "metadata": {
        "id": "O1AxvNb9TNRV",
        "colab_type": "code",
        "colab": {
          "base_uri": "https://localhost:8080/",
          "height": 34
        },
        "outputId": "265d33e3-8516-43b9-e4db-e41db447479a"
      },
      "source": [
        "arr2d[ arr2d < 5 ]\n"
      ],
      "execution_count": 41,
      "outputs": [
        {
          "output_type": "execute_result",
          "data": {
            "text/plain": [
              "array([1, 2, 3, 4])"
            ]
          },
          "metadata": {
            "tags": []
          },
          "execution_count": 41
        }
      ]
    }
  ]
}